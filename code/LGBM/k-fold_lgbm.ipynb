{
 "cells": [
  {
   "cell_type": "code",
   "execution_count": 2,
   "id": "b6921e18-5765-43ab-adf6-2687734e8750",
   "metadata": {
    "collapsed": true,
    "jupyter": {
     "outputs_hidden": true
    },
    "tags": []
   },
   "outputs": [
    {
     "name": "stdout",
     "output_type": "stream",
     "text": [
      "Collecting pycaret\n",
      "  Downloading pycaret-2.3.1-py3-none-any.whl (261 kB)\n",
      "\u001b[K     |████████████████████████████████| 261 kB 2.1 MB/s eta 0:00:01\n",
      "\u001b[?25hCollecting scikit-plot\n",
      "  Downloading scikit_plot-0.3.7-py3-none-any.whl (33 kB)\n",
      "Collecting cufflinks>=0.17.0\n",
      "  Downloading cufflinks-0.17.3.tar.gz (81 kB)\n",
      "\u001b[K     |████████████████████████████████| 81 kB 4.2 MB/s eta 0:00:01\n",
      "\u001b[?25hRequirement already satisfied: ipywidgets in /opt/conda/lib/python3.7/site-packages (from pycaret) (7.6.3)\n",
      "Collecting kmodes>=0.10.1\n",
      "  Downloading kmodes-0.11.0-py2.py3-none-any.whl (18 kB)\n",
      "Collecting mlflow\n",
      "  Downloading mlflow-1.17.0-py3-none-any.whl (14.2 MB)\n",
      "\u001b[K     |████████████████████████████████| 14.2 MB 5.6 MB/s eta 0:00:01    |███▊                            | 1.7 MB 4.4 MB/s eta 0:00:03     |███████▋                        | 3.4 MB 4.4 MB/s eta 0:00:03     |█████████████████████           | 9.3 MB 4.5 MB/s eta 0:00:02\n",
      "\u001b[?25hRequirement already satisfied: numpy==1.19.5 in /opt/conda/lib/python3.7/site-packages (from pycaret) (1.19.5)\n",
      "Collecting mlxtend>=0.17.0\n",
      "  Downloading mlxtend-0.18.0-py2.py3-none-any.whl (1.3 MB)\n",
      "\u001b[K     |████████████████████████████████| 1.3 MB 7.4 MB/s eta 0:00:01\n",
      "\u001b[?25hRequirement already satisfied: IPython in /opt/conda/lib/python3.7/site-packages (from pycaret) (7.16.1)\n",
      "Collecting pyLDAvis\n",
      "  Downloading pyLDAvis-3.3.1.tar.gz (1.7 MB)\n",
      "\u001b[K     |████████████████████████████████| 1.7 MB 7.6 MB/s eta 0:00:01\n",
      "\u001b[?25h  Installing build dependencies ... \u001b[?25ldone\n",
      "\u001b[?25h  Getting requirements to build wheel ... \u001b[?25ldone\n",
      "\u001b[?25h  Installing backend dependencies ... \u001b[?25ldone\n",
      "\u001b[?25h    Preparing wheel metadata ... \u001b[?25ldone\n",
      "\u001b[?25hRequirement already satisfied: seaborn in /opt/conda/lib/python3.7/site-packages (from pycaret) (0.11.1)\n",
      "Requirement already satisfied: pandas in /opt/conda/lib/python3.7/site-packages (from pycaret) (1.2.4)\n",
      "Requirement already satisfied: plotly>=4.4.1 in /opt/conda/lib/python3.7/site-packages (from pycaret) (4.14.3)\n",
      "Requirement already satisfied: joblib in /opt/conda/lib/python3.7/site-packages (from pycaret) (1.0.1)\n",
      "Requirement already satisfied: scipy<=1.5.4 in /opt/conda/lib/python3.7/site-packages (from pycaret) (1.5.4)\n",
      "Requirement already satisfied: matplotlib in /opt/conda/lib/python3.7/site-packages (from pycaret) (3.3.4)\n",
      "Collecting umap-learn\n",
      "  Downloading umap-learn-0.5.1.tar.gz (80 kB)\n",
      "\u001b[K     |████████████████████████████████| 80 kB 6.6 MB/s eta 0:00:011\n",
      "\u001b[?25hCollecting Boruta\n",
      "  Downloading Boruta-0.3-py3-none-any.whl (56 kB)\n",
      "\u001b[K     |████████████████████████████████| 56 kB 5.4 MB/s  eta 0:00:01\n",
      "\u001b[?25hCollecting pyod\n",
      "  Downloading pyod-0.8.8.tar.gz (102 kB)\n",
      "\u001b[K     |████████████████████████████████| 102 kB 8.3 MB/s eta 0:00:01\n",
      "\u001b[?25hCollecting pandas-profiling>=2.8.0\n",
      "  Downloading pandas_profiling-3.0.0-py2.py3-none-any.whl (248 kB)\n",
      "\u001b[K     |████████████████████████████████| 248 kB 7.7 MB/s eta 0:00:01\n",
      "\u001b[?25hRequirement already satisfied: scikit-learn==0.23.2 in /opt/conda/lib/python3.7/site-packages (from pycaret) (0.23.2)\n",
      "Collecting textblob\n",
      "  Downloading textblob-0.15.3-py2.py3-none-any.whl (636 kB)\n",
      "\u001b[K     |████████████████████████████████| 636 kB 8.2 MB/s eta 0:00:01\n",
      "\u001b[?25hCollecting gensim<4.0.0\n",
      "  Downloading gensim-3.8.3-cp37-cp37m-manylinux1_x86_64.whl (24.2 MB)\n",
      "\u001b[K     |████████████████████████████████| 24.2 MB 9.2 MB/s eta 0:00:01    |▋                               | 491 kB 8.4 MB/s eta 0:00:03     |█▏                              | 849 kB 8.4 MB/s eta 0:00:03     |██                              | 1.5 MB 8.4 MB/s eta 0:00:03     |██████████████████▋             | 14.1 MB 6.2 MB/s eta 0:00:02\n",
      "\u001b[?25hCollecting nltk\n",
      "  Downloading nltk-3.6.2-py3-none-any.whl (1.5 MB)\n",
      "\u001b[K     |████████████████████████████████| 1.5 MB 10.9 MB/s eta 0:00:01\n",
      "\u001b[?25hCollecting wordcloud\n",
      "  Downloading wordcloud-1.8.1-cp37-cp37m-manylinux1_x86_64.whl (366 kB)\n",
      "\u001b[K     |████████████████████████████████| 366 kB 11.9 MB/s eta 0:00:01\n",
      "\u001b[?25hCollecting spacy<2.4.0\n",
      "  Downloading spacy-2.3.7-cp37-cp37m-manylinux_2_17_x86_64.manylinux2014_x86_64.whl (10.4 MB)\n",
      "\u001b[K     |████████████████████████████████| 10.4 MB 98 kB/s s eta 0:00:01    |█████████▎                      | 3.0 MB 10.4 MB/s eta 0:00:01     |██████████████▎                 | 4.6 MB 10.4 MB/s eta 0:00:01     |████████████████                | 5.2 MB 10.4 MB/s eta 0:00:01     |███████████████████▍            | 6.3 MB 10.4 MB/s eta 0:00:01\n",
      "\u001b[?25hRequirement already satisfied: lightgbm>=2.3.1 in /opt/conda/lib/python3.7/site-packages (from pycaret) (3.2.1)\n",
      "Collecting yellowbrick>=1.0.1\n",
      "  Downloading yellowbrick-1.3.post1-py3-none-any.whl (271 kB)\n",
      "\u001b[K     |████████████████████████████████| 271 kB 16.1 MB/s eta 0:00:01\n",
      "\u001b[?25hCollecting imbalanced-learn==0.7.0\n",
      "  Downloading imbalanced_learn-0.7.0-py3-none-any.whl (167 kB)\n",
      "\u001b[K     |████████████████████████████████| 167 kB 15.3 MB/s eta 0:00:01\n",
      "\u001b[?25hRequirement already satisfied: six>=1.9.0 in /opt/conda/lib/python3.7/site-packages (from cufflinks>=0.17.0->pycaret) (1.15.0)\n",
      "Collecting colorlover>=0.2.1\n",
      "  Downloading colorlover-0.3.0-py3-none-any.whl (8.9 kB)\n",
      "Requirement already satisfied: setuptools>=34.4.1 in /opt/conda/lib/python3.7/site-packages (from cufflinks>=0.17.0->pycaret) (46.4.0.post20200518)\n",
      "Requirement already satisfied: nbformat>=4.2.0 in /opt/conda/lib/python3.7/site-packages (from ipywidgets->pycaret) (5.1.3)\n",
      "Requirement already satisfied: traitlets>=4.3.1 in /opt/conda/lib/python3.7/site-packages (from ipywidgets->pycaret) (4.3.3)\n",
      "Requirement already satisfied: widgetsnbextension~=3.5.0 in /opt/conda/lib/python3.7/site-packages (from ipywidgets->pycaret) (3.5.1)\n",
      "Requirement already satisfied: ipykernel>=4.5.1 in /opt/conda/lib/python3.7/site-packages (from ipywidgets->pycaret) (5.5.5)\n",
      "Requirement already satisfied: jupyterlab-widgets>=1.0.0; python_version >= \"3.6\" in /opt/conda/lib/python3.7/site-packages (from ipywidgets->pycaret) (1.0.0)\n",
      "Collecting prometheus-flask-exporter\n",
      "  Downloading prometheus_flask_exporter-0.18.2.tar.gz (22 kB)\n",
      "Requirement already satisfied: entrypoints in /opt/conda/lib/python3.7/site-packages (from mlflow->pycaret) (0.3)\n",
      "Requirement already satisfied: requests>=2.17.3 in /opt/conda/lib/python3.7/site-packages (from mlflow->pycaret) (2.25.1)\n",
      "Collecting docker>=4.0.0\n",
      "  Downloading docker-5.0.0-py2.py3-none-any.whl (146 kB)\n",
      "\u001b[K     |████████████████████████████████| 146 kB 16.1 MB/s eta 0:00:01\n",
      "\u001b[?25hCollecting gunicorn; platform_system != \"Windows\"\n",
      "  Downloading gunicorn-20.1.0-py3-none-any.whl (79 kB)\n",
      "\u001b[K     |████████████████████████████████| 79 kB 7.5 MB/s  eta 0:00:01\n",
      "\u001b[?25hCollecting sqlparse>=0.3.1\n",
      "  Downloading sqlparse-0.4.1-py3-none-any.whl (42 kB)\n",
      "\u001b[K     |████████████████████████████████| 42 kB 1.6 MB/s  eta 0:00:01\n",
      "\u001b[?25hRequirement already satisfied: cloudpickle in /opt/conda/lib/python3.7/site-packages (from mlflow->pycaret) (1.6.0)\n",
      "Requirement already satisfied: click>=7.0 in /opt/conda/lib/python3.7/site-packages (from mlflow->pycaret) (8.0.1)\n",
      "Collecting Flask\n",
      "  Downloading Flask-2.0.1-py3-none-any.whl (94 kB)\n",
      "\u001b[K     |████████████████████████████████| 94 kB 4.0 MB/s  eta 0:00:01\n",
      "\u001b[?25hCollecting querystring-parser\n",
      "  Downloading querystring_parser-1.2.4-py2.py3-none-any.whl (7.9 kB)\n",
      "Collecting sqlalchemy\n",
      "  Downloading SQLAlchemy-1.4.17-cp37-cp37m-manylinux_2_5_x86_64.manylinux1_x86_64.manylinux_2_17_x86_64.manylinux2014_x86_64.whl (1.5 MB)\n",
      "\u001b[K     |████████████████████████████████| 1.5 MB 16.5 MB/s eta 0:00:01\n",
      "\u001b[?25hRequirement already satisfied: gitpython>=2.1.0 in /opt/conda/lib/python3.7/site-packages (from mlflow->pycaret) (3.1.17)\n",
      "Requirement already satisfied: protobuf>=3.6.0 in /opt/conda/lib/python3.7/site-packages (from mlflow->pycaret) (3.15.6)\n",
      "Collecting databricks-cli>=0.8.7\n",
      "  Downloading databricks-cli-0.14.3.tar.gz (54 kB)\n",
      "\u001b[K     |████████████████████████████████| 54 kB 4.2 MB/s  eta 0:00:01\n",
      "\u001b[?25hCollecting alembic<=1.4.1\n",
      "  Downloading alembic-1.4.1.tar.gz (1.1 MB)\n",
      "\u001b[K     |████████████████████████████████| 1.1 MB 18.9 MB/s eta 0:00:01\n",
      "\u001b[?25hRequirement already satisfied: pytz in /opt/conda/lib/python3.7/site-packages (from mlflow->pycaret) (2021.1)\n",
      "Requirement already satisfied: pyyaml in /opt/conda/lib/python3.7/site-packages (from mlflow->pycaret) (5.3.1)\n",
      "Requirement already satisfied: jedi>=0.10 in /opt/conda/lib/python3.7/site-packages (from IPython->pycaret) (0.17.1)\n",
      "Requirement already satisfied: prompt-toolkit!=3.0.0,!=3.0.1,<3.1.0,>=2.0.0 in /opt/conda/lib/python3.7/site-packages (from IPython->pycaret) (3.0.5)\n",
      "Requirement already satisfied: pickleshare in /opt/conda/lib/python3.7/site-packages (from IPython->pycaret) (0.7.5)\n",
      "Requirement already satisfied: decorator in /opt/conda/lib/python3.7/site-packages (from IPython->pycaret) (4.4.2)\n",
      "Requirement already satisfied: pygments in /opt/conda/lib/python3.7/site-packages (from IPython->pycaret) (2.6.1)\n",
      "Requirement already satisfied: backcall in /opt/conda/lib/python3.7/site-packages (from IPython->pycaret) (0.2.0)\n",
      "Requirement already satisfied: pexpect; sys_platform != \"win32\" in /opt/conda/lib/python3.7/site-packages (from IPython->pycaret) (4.8.0)\n",
      "Collecting funcy\n",
      "  Downloading funcy-1.16-py2.py3-none-any.whl (32 kB)\n",
      "Requirement already satisfied: future in /opt/conda/lib/python3.7/site-packages (from pyLDAvis->pycaret) (0.18.2)\n",
      "Collecting numexpr\n",
      "  Downloading numexpr-2.7.3-cp37-cp37m-manylinux2010_x86_64.whl (471 kB)\n",
      "\u001b[K     |████████████████████████████████| 471 kB 19.4 MB/s eta 0:00:01\n",
      "\u001b[?25hRequirement already satisfied: sklearn in /opt/conda/lib/python3.7/site-packages (from pyLDAvis->pycaret) (0.0)\n",
      "Requirement already satisfied: jinja2 in /opt/conda/lib/python3.7/site-packages (from pyLDAvis->pycaret) (2.11.2)\n",
      "Requirement already satisfied: python-dateutil>=2.7.3 in /opt/conda/lib/python3.7/site-packages (from pandas->pycaret) (2.8.1)\n",
      "Requirement already satisfied: retrying>=1.3.3 in /opt/conda/lib/python3.7/site-packages (from plotly>=4.4.1->pycaret) (1.3.3)\n",
      "Requirement already satisfied: kiwisolver>=1.0.1 in /opt/conda/lib/python3.7/site-packages (from matplotlib->pycaret) (1.3.1)\n",
      "Requirement already satisfied: cycler>=0.10 in /opt/conda/lib/python3.7/site-packages (from matplotlib->pycaret) (0.10.0)\n",
      "Requirement already satisfied: pyparsing!=2.0.4,!=2.1.2,!=2.1.6,>=2.0.3 in /opt/conda/lib/python3.7/site-packages (from matplotlib->pycaret) (2.4.7)\n",
      "Requirement already satisfied: pillow>=6.2.0 in /opt/conda/lib/python3.7/site-packages (from matplotlib->pycaret) (8.2.0)\n",
      "Requirement already satisfied: numba>=0.49 in /opt/conda/lib/python3.7/site-packages (from umap-learn->pycaret) (0.53.1)\n",
      "Collecting pynndescent>=0.5\n",
      "  Downloading pynndescent-0.5.2.tar.gz (1.1 MB)\n",
      "\u001b[K     |████████████████████████████████| 1.1 MB 18.2 MB/s eta 0:00:01\n",
      "\u001b[?25hCollecting statsmodels\n",
      "  Using cached statsmodels-0.12.2-cp37-cp37m-manylinux1_x86_64.whl (9.5 MB)\n",
      "Collecting tqdm>=4.48.2\n",
      "  Downloading tqdm-4.61.0-py2.py3-none-any.whl (75 kB)\n",
      "\u001b[K     |████████████████████████████████| 75 kB 5.7 MB/s  eta 0:00:01\n",
      "\u001b[?25hCollecting htmlmin>=0.1.12\n",
      "  Downloading htmlmin-0.1.12.tar.gz (19 kB)\n",
      "Collecting phik>=0.11.1\n",
      "  Downloading phik-0.11.2.tar.gz (1.1 MB)\n",
      "\u001b[K     |████████████████████████████████| 1.1 MB 19.3 MB/s eta 0:00:01\n",
      "\u001b[?25hCollecting tangled-up-in-unicode==0.1.0\n",
      "  Downloading tangled_up_in_unicode-0.1.0-py3-none-any.whl (3.1 MB)\n",
      "\u001b[K     |████████████████████████████████| 3.1 MB 17.4 MB/s eta 0:00:01\n",
      "\u001b[?25hRequirement already satisfied: missingno>=0.4.2 in /opt/conda/lib/python3.7/site-packages (from pandas-profiling>=2.8.0->pycaret) (0.4.2)\n",
      "Collecting pydantic>=1.8.1\n",
      "  Downloading pydantic-1.8.2-cp37-cp37m-manylinux2014_x86_64.whl (10.1 MB)\n",
      "\u001b[K     |████████████████████████████████| 10.1 MB 18.2 MB/s eta 0:00:01    |████████▎                       | 2.6 MB 18.2 MB/s eta 0:00:01\n",
      "\u001b[?25hCollecting visions[type_image_path]==0.7.1\n",
      "  Downloading visions-0.7.1-py3-none-any.whl (102 kB)\n",
      "\u001b[K     |████████████████████████████████| 102 kB 28.3 MB/s eta 0:00:01\n",
      "\u001b[?25hRequirement already satisfied: threadpoolctl>=2.0.0 in /opt/conda/lib/python3.7/site-packages (from scikit-learn==0.23.2->pycaret) (2.1.0)\n",
      "Requirement already satisfied: smart-open>=1.8.1 in /opt/conda/lib/python3.7/site-packages (from gensim<4.0.0->pycaret) (5.0.0)\n",
      "Requirement already satisfied: regex in /opt/conda/lib/python3.7/site-packages (from nltk->pycaret) (2021.4.4)\n",
      "Collecting cymem<2.1.0,>=2.0.2\n",
      "  Downloading cymem-2.0.5-cp37-cp37m-manylinux2014_x86_64.whl (35 kB)\n",
      "Collecting murmurhash<1.1.0,>=0.28.0\n",
      "  Downloading murmurhash-1.0.5-cp37-cp37m-manylinux2014_x86_64.whl (20 kB)\n",
      "Collecting wasabi<1.1.0,>=0.4.0\n",
      "  Downloading wasabi-0.8.2-py3-none-any.whl (23 kB)\n",
      "Collecting preshed<3.1.0,>=3.0.2\n",
      "  Downloading preshed-3.0.5-cp37-cp37m-manylinux2014_x86_64.whl (126 kB)\n",
      "\u001b[K     |████████████████████████████████| 126 kB 23.2 MB/s eta 0:00:01\n",
      "\u001b[?25hCollecting catalogue<1.1.0,>=0.0.7\n",
      "  Downloading catalogue-1.0.0-py2.py3-none-any.whl (7.7 kB)\n",
      "Collecting thinc<7.5.0,>=7.4.1\n",
      "  Downloading thinc-7.4.5-cp37-cp37m-manylinux2014_x86_64.whl (1.0 MB)\n",
      "\u001b[K     |████████████████████████████████| 1.0 MB 21.9 MB/s eta 0:00:01\n",
      "\u001b[?25hCollecting plac<1.2.0,>=0.9.6\n",
      "  Downloading plac-1.1.3-py2.py3-none-any.whl (20 kB)\n",
      "Collecting blis<0.8.0,>=0.4.0\n",
      "  Downloading blis-0.7.4-cp37-cp37m-manylinux2014_x86_64.whl (9.8 MB)\n",
      "\u001b[K     |████████████████████████████████| 9.8 MB 24.3 MB/s eta 0:00:01     |██████▉                         | 2.1 MB 24.3 MB/s eta 0:00:01\n",
      "\u001b[?25hCollecting srsly<1.1.0,>=1.0.2\n",
      "  Downloading srsly-1.0.5-cp37-cp37m-manylinux2014_x86_64.whl (184 kB)\n",
      "\u001b[K     |████████████████████████████████| 184 kB 26.6 MB/s eta 0:00:01\n",
      "\u001b[?25hRequirement already satisfied: wheel in /opt/conda/lib/python3.7/site-packages (from lightgbm>=2.3.1->pycaret) (0.34.2)\n",
      "Requirement already satisfied: jupyter-core in /opt/conda/lib/python3.7/site-packages (from nbformat>=4.2.0->ipywidgets->pycaret) (4.7.1)\n",
      "Requirement already satisfied: jsonschema!=2.5.0,>=2.4 in /opt/conda/lib/python3.7/site-packages (from nbformat>=4.2.0->ipywidgets->pycaret) (3.2.0)\n",
      "Requirement already satisfied: ipython-genutils in /opt/conda/lib/python3.7/site-packages (from nbformat>=4.2.0->ipywidgets->pycaret) (0.2.0)\n",
      "Requirement already satisfied: notebook>=4.4.1 in /opt/conda/lib/python3.7/site-packages (from widgetsnbextension~=3.5.0->ipywidgets->pycaret) (6.4.0)\n",
      "Requirement already satisfied: jupyter-client in /opt/conda/lib/python3.7/site-packages (from ipykernel>=4.5.1->ipywidgets->pycaret) (6.1.12)\n",
      "Requirement already satisfied: tornado>=4.2 in /opt/conda/lib/python3.7/site-packages (from ipykernel>=4.5.1->ipywidgets->pycaret) (6.1)\n",
      "Requirement already satisfied: prometheus_client in /opt/conda/lib/python3.7/site-packages (from prometheus-flask-exporter->mlflow->pycaret) (0.10.1)\n",
      "Requirement already satisfied: certifi>=2017.4.17 in /opt/conda/lib/python3.7/site-packages (from requests>=2.17.3->mlflow->pycaret) (2020.12.5)\n",
      "Requirement already satisfied: chardet<5,>=3.0.2 in /opt/conda/lib/python3.7/site-packages (from requests>=2.17.3->mlflow->pycaret) (4.0.0)\n",
      "Requirement already satisfied: urllib3<1.27,>=1.21.1 in /opt/conda/lib/python3.7/site-packages (from requests>=2.17.3->mlflow->pycaret) (1.26.4)\n",
      "Requirement already satisfied: idna<3,>=2.5 in /opt/conda/lib/python3.7/site-packages (from requests>=2.17.3->mlflow->pycaret) (2.10)\n",
      "Requirement already satisfied: websocket-client>=0.32.0 in /opt/conda/lib/python3.7/site-packages (from docker>=4.0.0->mlflow->pycaret) (1.0.1)\n",
      "Requirement already satisfied: importlib-metadata; python_version < \"3.8\" in /opt/conda/lib/python3.7/site-packages (from click>=7.0->mlflow->pycaret) (3.10.0)\n",
      "Collecting itsdangerous>=2.0\n",
      "  Downloading itsdangerous-2.0.1-py3-none-any.whl (18 kB)\n",
      "Collecting Werkzeug>=2.0\n",
      "  Using cached Werkzeug-2.0.1-py3-none-any.whl (288 kB)\n",
      "Requirement already satisfied: greenlet!=0.4.17; python_version >= \"3\" in /opt/conda/lib/python3.7/site-packages (from sqlalchemy->mlflow->pycaret) (1.1.0)\n",
      "Requirement already satisfied: typing-extensions>=3.7.4.0; python_version < \"3.8\" in /opt/conda/lib/python3.7/site-packages (from gitpython>=2.1.0->mlflow->pycaret) (3.7.4.3)\n",
      "Requirement already satisfied: gitdb<5,>=4.0.1 in /opt/conda/lib/python3.7/site-packages (from gitpython>=2.1.0->mlflow->pycaret) (4.0.7)\n",
      "Requirement already satisfied: tabulate>=0.7.7 in /opt/conda/lib/python3.7/site-packages (from databricks-cli>=0.8.7->mlflow->pycaret) (0.8.9)\n",
      "Collecting Mako\n",
      "  Downloading Mako-1.1.4-py2.py3-none-any.whl (75 kB)\n",
      "\u001b[K     |████████████████████████████████| 75 kB 5.1 MB/s  eta 0:00:01\n",
      "\u001b[?25hCollecting python-editor>=0.3\n",
      "  Downloading python_editor-1.0.4-py3-none-any.whl (4.9 kB)\n",
      "Requirement already satisfied: parso<0.8.0,>=0.7.0 in /opt/conda/lib/python3.7/site-packages (from jedi>=0.10->IPython->pycaret) (0.7.0)\n",
      "Requirement already satisfied: wcwidth in /opt/conda/lib/python3.7/site-packages (from prompt-toolkit!=3.0.0,!=3.0.1,<3.1.0,>=2.0.0->IPython->pycaret) (0.2.5)\n",
      "Requirement already satisfied: ptyprocess>=0.5 in /opt/conda/lib/python3.7/site-packages (from pexpect; sys_platform != \"win32\"->IPython->pycaret) (0.6.0)\n",
      "Requirement already satisfied: MarkupSafe>=0.23 in /opt/conda/lib/python3.7/site-packages (from jinja2->pyLDAvis->pycaret) (1.1.1)\n",
      "Requirement already satisfied: llvmlite<0.37,>=0.36.0rc1 in /opt/conda/lib/python3.7/site-packages (from numba>=0.49->umap-learn->pycaret) (0.36.0)\n",
      "Collecting patsy>=0.5\n",
      "  Using cached patsy-0.5.1-py2.py3-none-any.whl (231 kB)\n",
      "Requirement already satisfied: attrs>=19.3.0 in /opt/conda/lib/python3.7/site-packages (from visions[type_image_path]==0.7.1->pandas-profiling>=2.8.0->pycaret) (21.2.0)\n",
      "Requirement already satisfied: networkx>=2.4 in /opt/conda/lib/python3.7/site-packages (from visions[type_image_path]==0.7.1->pandas-profiling>=2.8.0->pycaret) (2.5.1)\n",
      "Collecting multimethod==1.4\n",
      "  Downloading multimethod-1.4-py2.py3-none-any.whl (7.3 kB)\n",
      "Collecting bottleneck\n",
      "  Downloading Bottleneck-1.3.2.tar.gz (88 kB)\n",
      "\u001b[K     |████████████████████████████████| 88 kB 10.8 MB/s eta 0:00:01\n",
      "\u001b[?25h  Installing build dependencies ... \u001b[?25ldone\n",
      "\u001b[?25h  Getting requirements to build wheel ... \u001b[?25ldone\n",
      "\u001b[?25h    Preparing wheel metadata ... \u001b[?25ldone\n",
      "\u001b[?25hCollecting imagehash; extra == \"type_image_path\"\n",
      "  Downloading ImageHash-4.2.0-py2.py3-none-any.whl (295 kB)\n",
      "\u001b[K     |████████████████████████████████| 295 kB 31.4 MB/s eta 0:00:01\n",
      "\u001b[?25hRequirement already satisfied: pyrsistent>=0.14.0 in /opt/conda/lib/python3.7/site-packages (from jsonschema!=2.5.0,>=2.4->nbformat>=4.2.0->ipywidgets->pycaret) (0.17.3)\n",
      "Requirement already satisfied: Send2Trash>=1.5.0 in /opt/conda/lib/python3.7/site-packages (from notebook>=4.4.1->widgetsnbextension~=3.5.0->ipywidgets->pycaret) (1.5.0)\n",
      "Requirement already satisfied: nbconvert in /opt/conda/lib/python3.7/site-packages (from notebook>=4.4.1->widgetsnbextension~=3.5.0->ipywidgets->pycaret) (6.0.7)\n",
      "Requirement already satisfied: argon2-cffi in /opt/conda/lib/python3.7/site-packages (from notebook>=4.4.1->widgetsnbextension~=3.5.0->ipywidgets->pycaret) (20.1.0)\n",
      "Requirement already satisfied: terminado>=0.8.3 in /opt/conda/lib/python3.7/site-packages (from notebook>=4.4.1->widgetsnbextension~=3.5.0->ipywidgets->pycaret) (0.10.0)\n",
      "Requirement already satisfied: pyzmq>=17 in /opt/conda/lib/python3.7/site-packages (from notebook>=4.4.1->widgetsnbextension~=3.5.0->ipywidgets->pycaret) (22.0.3)\n",
      "Requirement already satisfied: zipp>=0.5 in /opt/conda/lib/python3.7/site-packages (from importlib-metadata; python_version < \"3.8\"->click>=7.0->mlflow->pycaret) (3.4.1)\n",
      "Requirement already satisfied: smmap<5,>=3.0.1 in /opt/conda/lib/python3.7/site-packages (from gitdb<5,>=4.0.1->gitpython>=2.1.0->mlflow->pycaret) (4.0.0)\n",
      "Collecting PyWavelets\n",
      "  Downloading PyWavelets-1.1.1-cp37-cp37m-manylinux1_x86_64.whl (4.4 MB)\n",
      "\u001b[K     |████████████████████████████████| 4.4 MB 29.2 MB/s eta 0:00:01\n",
      "\u001b[?25hRequirement already satisfied: mistune<2,>=0.8.1 in /opt/conda/lib/python3.7/site-packages (from nbconvert->notebook>=4.4.1->widgetsnbextension~=3.5.0->ipywidgets->pycaret) (0.8.4)\n",
      "Requirement already satisfied: defusedxml in /opt/conda/lib/python3.7/site-packages (from nbconvert->notebook>=4.4.1->widgetsnbextension~=3.5.0->ipywidgets->pycaret) (0.7.1)\n",
      "Requirement already satisfied: testpath in /opt/conda/lib/python3.7/site-packages (from nbconvert->notebook>=4.4.1->widgetsnbextension~=3.5.0->ipywidgets->pycaret) (0.5.0)\n",
      "Requirement already satisfied: pandocfilters>=1.4.1 in /opt/conda/lib/python3.7/site-packages (from nbconvert->notebook>=4.4.1->widgetsnbextension~=3.5.0->ipywidgets->pycaret) (1.4.3)\n",
      "Requirement already satisfied: jupyterlab-pygments in /opt/conda/lib/python3.7/site-packages (from nbconvert->notebook>=4.4.1->widgetsnbextension~=3.5.0->ipywidgets->pycaret) (0.1.2)\n",
      "Requirement already satisfied: nbclient<0.6.0,>=0.5.0 in /opt/conda/lib/python3.7/site-packages (from nbconvert->notebook>=4.4.1->widgetsnbextension~=3.5.0->ipywidgets->pycaret) (0.5.3)\n",
      "Requirement already satisfied: bleach in /opt/conda/lib/python3.7/site-packages (from nbconvert->notebook>=4.4.1->widgetsnbextension~=3.5.0->ipywidgets->pycaret) (3.3.0)\n",
      "Requirement already satisfied: cffi>=1.0.0 in /opt/conda/lib/python3.7/site-packages (from argon2-cffi->notebook>=4.4.1->widgetsnbextension~=3.5.0->ipywidgets->pycaret) (1.14.0)\n",
      "Requirement already satisfied: nest-asyncio in /opt/conda/lib/python3.7/site-packages (from nbclient<0.6.0,>=0.5.0->nbconvert->notebook>=4.4.1->widgetsnbextension~=3.5.0->ipywidgets->pycaret) (1.5.1)\n",
      "Requirement already satisfied: async-generator in /opt/conda/lib/python3.7/site-packages (from nbclient<0.6.0,>=0.5.0->nbconvert->notebook>=4.4.1->widgetsnbextension~=3.5.0->ipywidgets->pycaret) (1.10)\n",
      "Requirement already satisfied: packaging in /opt/conda/lib/python3.7/site-packages (from bleach->nbconvert->notebook>=4.4.1->widgetsnbextension~=3.5.0->ipywidgets->pycaret) (20.9)\n",
      "Requirement already satisfied: webencodings in /opt/conda/lib/python3.7/site-packages (from bleach->nbconvert->notebook>=4.4.1->widgetsnbextension~=3.5.0->ipywidgets->pycaret) (0.5.1)\n",
      "Requirement already satisfied: pycparser in /opt/conda/lib/python3.7/site-packages (from cffi>=1.0.0->argon2-cffi->notebook>=4.4.1->widgetsnbextension~=3.5.0->ipywidgets->pycaret) (2.20)\n",
      "Building wheels for collected packages: cufflinks, pyLDAvis, umap-learn, pyod, prometheus-flask-exporter, databricks-cli, alembic, pynndescent, htmlmin, phik, bottleneck\n",
      "  Building wheel for cufflinks (setup.py) ... \u001b[?25ldone\n",
      "\u001b[?25h  Created wheel for cufflinks: filename=cufflinks-0.17.3-py3-none-any.whl size=67921 sha256=57f22b4d5fd0222e4a6bd54722b43fca7c952c7ab69f90a34925d6966681da1c\n",
      "  Stored in directory: /opt/ml/.cache/pip/wheels/e1/27/13/3fe67fa7ea7be444b831d117220b3b586b872c9acd4df480d0\n",
      "  Building wheel for pyLDAvis (PEP 517) ... \u001b[?25ldone\n",
      "\u001b[?25h  Created wheel for pyLDAvis: filename=pyLDAvis-3.3.1-py2.py3-none-any.whl size=136897 sha256=60e7ac8a5f84013c9945d76157790e3a7d91f98686139c989f8c9fe29320b955\n",
      "  Stored in directory: /opt/ml/.cache/pip/wheels/c9/21/f6/17bcf2667e8a68532ba2fbf6d5c72fdf4c7f7d9abfa4852d2f\n",
      "  Building wheel for umap-learn (setup.py) ... \u001b[?25ldone\n",
      "\u001b[?25h  Created wheel for umap-learn: filename=umap_learn-0.5.1-py3-none-any.whl size=76566 sha256=d9b25edce5b6591360af59d8ab4abeefd6baf93a7da75488bc636242d9088945\n",
      "  Stored in directory: /opt/ml/.cache/pip/wheels/01/e7/bb/347dc0e510803d7116a13d592b10cc68262da56a8eec4dd72f\n",
      "  Building wheel for pyod (setup.py) ... \u001b[?25ldone\n",
      "\u001b[?25h  Created wheel for pyod: filename=pyod-0.8.8-py3-none-any.whl size=116965 sha256=5782c3ee7e6cb4291525c19e96e70d2c4db15c3e10c0aa32b0419d4ee0ad5c92\n",
      "  Stored in directory: /opt/ml/.cache/pip/wheels/77/59/4c/18e7ef198e2c737674b0bd8b6fa0fb1163c83ecc4e622fbda4\n",
      "  Building wheel for prometheus-flask-exporter (setup.py) ... \u001b[?25ldone\n",
      "\u001b[?25h  Created wheel for prometheus-flask-exporter: filename=prometheus_flask_exporter-0.18.2-py3-none-any.whl size=17398 sha256=430f91b29af7649813965c64494cd017164f208a19b071e10fb97338a5ee134c\n",
      "  Stored in directory: /opt/ml/.cache/pip/wheels/6a/1e/1c/c765920cb92b2f0343d2dd8b481a407cee2823f9b4bbd2e52a\n",
      "  Building wheel for databricks-cli (setup.py) ... \u001b[?25ldone\n",
      "\u001b[?25h  Created wheel for databricks-cli: filename=databricks_cli-0.14.3-py3-none-any.whl size=100555 sha256=1d7b3aef8764879dbebdeff5a2d3c6c69dbb377376256b7d5c685efd6541bbe3\n",
      "  Stored in directory: /opt/ml/.cache/pip/wheels/3b/60/14/6930445b08959fbdf4e3029bac7e1f2cccb2e94df8afa00b29\n",
      "  Building wheel for alembic (setup.py) ... \u001b[?25ldone\n",
      "\u001b[?25h  Created wheel for alembic: filename=alembic-1.4.1-py2.py3-none-any.whl size=158154 sha256=036caa024659053f1cf8206cc1ed6b0dca03044b4a5044cd610207afb3e37443\n",
      "  Stored in directory: /opt/ml/.cache/pip/wheels/be/5d/0a/9e13f53f4f5dfb67cd8d245bb7cdffe12f135846f491a283e3\n",
      "  Building wheel for pynndescent (setup.py) ... \u001b[?25ldone\n",
      "\u001b[?25h  Created wheel for pynndescent: filename=pynndescent-0.5.2-py3-none-any.whl size=51348 sha256=d874b2c5dbd765b07dfdffe8f62d85f00f4a2d40b04cc0a61509ad1eb4328540\n",
      "  Stored in directory: /opt/ml/.cache/pip/wheels/62/0b/55/40d651c5a4106ea9ce68d014335a1c7bf059530722c0107b15\n",
      "  Building wheel for htmlmin (setup.py) ... \u001b[?25ldone\n",
      "\u001b[?25h  Created wheel for htmlmin: filename=htmlmin-0.1.12-py3-none-any.whl size=27084 sha256=84b2f587c5a328771fc09a1f00a345568f173cec4bb03accec5ebe0194521a93\n",
      "  Stored in directory: /opt/ml/.cache/pip/wheels/70/e1/52/5b14d250ba868768823940c3229e9950d201a26d0bd3ee8655\n",
      "  Building wheel for phik (setup.py) ... \u001b[?25ldone\n",
      "\u001b[?25h  Created wheel for phik: filename=phik-0.11.2-py3-none-any.whl size=1107412 sha256=2ef5b23a6d5ce2161d0e45ecaf74ef7f200b096d387fe1a317f85f003e41a8b2\n",
      "  Stored in directory: /opt/ml/.cache/pip/wheels/40/98/a3/b654f24edcdcdb87d1f70d65a506fcfdf15289db129c594bcd\n",
      "  Building wheel for bottleneck (PEP 517) ... \u001b[?25ldone\n",
      "\u001b[?25h  Created wheel for bottleneck: filename=Bottleneck-1.3.2-cp37-cp37m-linux_x86_64.whl size=334817 sha256=521fec8131798969122b6676af4bf9447e64dec0b1d4283453ba041eefd25c67\n",
      "  Stored in directory: /opt/ml/.cache/pip/wheels/87/85/9c/a325c89ff0498660ef8a335fb4b3912939c273ea4f094af29f\n",
      "Successfully built cufflinks pyLDAvis umap-learn pyod prometheus-flask-exporter databricks-cli alembic pynndescent htmlmin phik bottleneck\n",
      "\u001b[31mERROR: flask 2.0.1 has requirement Jinja2>=3.0, but you'll have jinja2 2.11.2 which is incompatible.\u001b[0m\n",
      "\u001b[31mERROR: pyldavis 3.3.1 has requirement numpy>=1.20.0, but you'll have numpy 1.19.5 which is incompatible.\u001b[0m\n",
      "Installing collected packages: scikit-plot, colorlover, cufflinks, kmodes, itsdangerous, Werkzeug, Flask, prometheus-flask-exporter, docker, gunicorn, sqlparse, querystring-parser, sqlalchemy, databricks-cli, Mako, python-editor, alembic, mlflow, mlxtend, funcy, numexpr, gensim, pyLDAvis, pynndescent, umap-learn, Boruta, patsy, statsmodels, pyod, tqdm, htmlmin, phik, tangled-up-in-unicode, pydantic, multimethod, bottleneck, PyWavelets, imagehash, visions, pandas-profiling, nltk, textblob, wordcloud, cymem, murmurhash, wasabi, preshed, catalogue, plac, srsly, blis, thinc, spacy, yellowbrick, imbalanced-learn, pycaret\n",
      "  Attempting uninstall: Werkzeug\n",
      "    Found existing installation: Werkzeug 1.0.1\n",
      "    Uninstalling Werkzeug-1.0.1:\n",
      "      Successfully uninstalled Werkzeug-1.0.1\n",
      "  Attempting uninstall: gensim\n",
      "    Found existing installation: gensim 4.0.1\n",
      "    Uninstalling gensim-4.0.1:\n",
      "      Successfully uninstalled gensim-4.0.1\n",
      "  Attempting uninstall: tqdm\n",
      "    Found existing installation: tqdm 4.46.0\n",
      "    Uninstalling tqdm-4.46.0:\n",
      "      Successfully uninstalled tqdm-4.46.0\n",
      "Successfully installed Boruta-0.3 Flask-2.0.1 Mako-1.1.4 PyWavelets-1.1.1 Werkzeug-2.0.1 alembic-1.4.1 blis-0.7.4 bottleneck-1.3.2 catalogue-1.0.0 colorlover-0.3.0 cufflinks-0.17.3 cymem-2.0.5 databricks-cli-0.14.3 docker-5.0.0 funcy-1.16 gensim-3.8.3 gunicorn-20.1.0 htmlmin-0.1.12 imagehash-4.2.0 imbalanced-learn-0.7.0 itsdangerous-2.0.1 kmodes-0.11.0 mlflow-1.17.0 mlxtend-0.18.0 multimethod-1.4 murmurhash-1.0.5 nltk-3.6.2 numexpr-2.7.3 pandas-profiling-3.0.0 patsy-0.5.1 phik-0.11.2 plac-1.1.3 preshed-3.0.5 prometheus-flask-exporter-0.18.2 pyLDAvis-3.3.1 pycaret-2.3.1 pydantic-1.8.2 pynndescent-0.5.2 pyod-0.8.8 python-editor-1.0.4 querystring-parser-1.2.4 scikit-plot-0.3.7 spacy-2.3.7 sqlalchemy-1.4.17 sqlparse-0.4.1 srsly-1.0.5 statsmodels-0.12.2 tangled-up-in-unicode-0.1.0 textblob-0.15.3 thinc-7.4.5 tqdm-4.61.0 umap-learn-0.5.1 visions-0.7.1 wasabi-0.8.2 wordcloud-1.8.1 yellowbrick-1.3.post1\n"
     ]
    }
   ],
   "source": [
    "!pip install pycaret"
   ]
  },
  {
   "cell_type": "code",
   "execution_count": 3,
   "id": "ad8a0698-1eb5-44f9-86c0-a6d6836c99c1",
   "metadata": {},
   "outputs": [],
   "source": [
    "import numpy as np\n",
    "import pandas as pd\n",
    "import os\n",
    "import random\n",
    "import pickle\n",
    "from pycaret.classification import *\n",
    "from pycaret.utils import check_metric\n",
    "from datetime import timedelta, timezone, datetime\n",
    "import torch\n",
    "import time\n",
    "from datetime import datetime"
   ]
  },
  {
   "cell_type": "code",
   "execution_count": 4,
   "id": "1100571d-aca5-4b67-b8c4-dec53849225a",
   "metadata": {},
   "outputs": [],
   "source": [
    "def setSeeds(seed = 42):\n",
    "    # 랜덤 시드를 설정하여 매 코드를 실행할 때마다 동일한 결과를 얻게 합니다.\n",
    "    os.environ['PYTHONHASHSEED'] = str(seed)\n",
    "    random.seed(seed)\n",
    "    np.random.seed(seed)\n",
    "    torch.manual_seed(seed)    \n",
    "    torch.cuda.manual_seed(seed)\n",
    "    torch.backends.cudnn.deterministic = True\n",
    "setSeeds(42)"
   ]
  },
  {
   "cell_type": "code",
   "execution_count": 5,
   "id": "45d1455a-89f8-47ec-8aea-04f22e34fc02",
   "metadata": {},
   "outputs": [],
   "source": [
    "def feature_split_user(df):\n",
    "    new_df = df.copy()\n",
    "    new_df[\"newUserID\"] = df['assessmentItemID'].apply(lambda x:x[:3]) + df['userID'].astype(str)\n",
    "    return new_df\n",
    "\n",
    "def get_remain_test_data(df_test):\n",
    "    get_new_id = set(df_test.loc[df_test.answerCode == -1, 'newUserID'])    \n",
    "    test_data = df_test[df_test.newUserID.isin(get_new_id)]\n",
    "    remain_data = df_test.drop(test_data.index)\n",
    "    return test_data, remain_data\n",
    "# time convert\n",
    "def convert_time(s):\n",
    "    timestamp = time.mktime(datetime.strptime(s, '%Y-%m-%d %H:%M:%S').timetuple())\n",
    "    return int(timestamp)"
   ]
  },
  {
   "cell_type": "code",
   "execution_count": 6,
   "id": "6c763560-945d-4643-b9fd-593ba0396831",
   "metadata": {},
   "outputs": [],
   "source": [
    "train_path = '/opt/ml/input/data/train_dataset/train_data.csv'\n",
    "test_path = '/opt/ml/input/data/train_dataset/test_data.csv'\n",
    "\n",
    "df_train_ori = pd.read_csv(train_path) \n",
    "df_test_ori = pd.read_csv(test_path)\n",
    "\n",
    "df_train = feature_split_user(df_train_ori)\n",
    "df_test = feature_split_user(df_test_ori)\n",
    "\n",
    "df_test_shift = df_test[df_test['userID'] != df_test['userID'].shift(-1)] # 맞춰야하는 row만 모아놓은 것\n",
    "df_test, remain_data = get_remain_test_data(df_test)\n",
    "df_train = pd.concat([df_train, remain_data])\n",
    "\n",
    "df_train['Timestamp'] = df_train['Timestamp'].apply(convert_time)\n",
    "df_test['Timestamp'] = df_test['Timestamp'].apply(convert_time)\n",
    "\n",
    "df_train_test = pd.concat([df_train, df_test['answerCode'], df_test[df_test['answerCode'] != -1]])"
   ]
  },
  {
   "cell_type": "code",
   "execution_count": 7,
   "id": "9b45865c-f234-4eb6-b707-c53130c80938",
   "metadata": {},
   "outputs": [],
   "source": [
    "# trian에서 각 문제 평균 뽑기\n",
    "testId_mean_sum = df_train_test.groupby(['testId'])['answerCode'].agg(['mean','sum']).to_dict()\n",
    "assessmentItemID_mean_sum = df_train_test.groupby(['assessmentItemID'])['answerCode'].agg(['mean', 'sum']).to_dict()\n",
    "KnowledgeTag_mean_sum = df_train_test.groupby(['KnowledgeTag'])['answerCode'].agg(['mean', 'sum']).to_dict()"
   ]
  },
  {
   "cell_type": "code",
   "execution_count": 8,
   "id": "91d49fab-3bed-431d-812b-19692d91d801",
   "metadata": {},
   "outputs": [
    {
     "data": {
      "text/plain": [
       "set()"
      ]
     },
     "execution_count": 8,
     "metadata": {},
     "output_type": "execute_result"
    }
   ],
   "source": [
    "# new user id 겹치는거 없음 확인\n",
    "s1 = set(df_test.loc[:, 'newUserID'])\n",
    "s2 = set(df_train.loc[:, 'newUserID'])\n",
    "s1 & s2"
   ]
  },
  {
   "cell_type": "markdown",
   "id": "17a6a692-d78e-4978-b1de-088a7681d7a3",
   "metadata": {},
   "source": [
    "## Feature engineering\n",
    "### 한번만 실행되도록 설정"
   ]
  },
  {
   "cell_type": "code",
   "execution_count": 9,
   "id": "ce5cc7ad-d830-4dc7-834a-df03296ce261",
   "metadata": {},
   "outputs": [],
   "source": [
    "def feature_engineering(df_ori):\n",
    "    df = df_ori.copy()\n",
    "    def assessmentItemID2item(x):\n",
    "        return int(x[-3:]) - 1\n",
    "    df['item'] = df.assessmentItemID.map(assessmentItemID2item)\n",
    "    # testId별로 나오는 문제 갯수\n",
    "    item_size = df[['assessmentItemID', 'testId']].drop_duplicates().groupby('testId').size()\n",
    "    testId2maxlen = item_size.to_dict() # 중복해서 풀이할 놈들을 제거하기 위해\n",
    "    \n",
    "    item_max = df.groupby('testId')['item'].max()\n",
    "\n",
    "    # 순서대로 풀지 않은 문제의 index\n",
    "    not_order_index = item_max[item_max +1 != item_size].index    \n",
    "    not_order_test = df.loc[df.testId.isin(not_order_index)][['assessmentItemID','testId']].drop_duplicates().sort_values('assessmentItemID')\n",
    "    not_order_group = not_order_test.groupby('testId')\n",
    "\n",
    "    not_order_ID2item = {}\n",
    "    for key in not_order_group.groups:\n",
    "        for i, (k, _) in enumerate(not_order_group.get_group(key).values):\n",
    "            not_order_ID2item[k] = i\n",
    "    \n",
    "    def assessmentItemID2item_order(x):\n",
    "        if x in not_order_ID2item:\n",
    "            return int(not_order_ID2item[x])\n",
    "        return int(x[-3:]) -1\n",
    "    df['orded_item'] = df.assessmentItemID.map(assessmentItemID2item_order)\n",
    "    df_group = df.groupby(['newUserID','testId'])['answerCode']\n",
    "    #user 별 이전까지 맞춘개수, 현재까지 맞춘개수, 현재 정답률\n",
    "    df['user_correct_answer'] = df_group.transform(lambda x: x.cumsum().shift(1))\n",
    "    df['user_total_answer'] = df_group.cumcount()\n",
    "    df['user_acc'] = df['user_correct_answer'] / df['user_total_answer']\n",
    "    \n",
    "    #한 test안에서 마지막으로 푼 문제으로 부터 지난 시간\n",
    "    df['prev_timestamp'] = df.groupby('testId')['Timestamp'].shift(0) - df.groupby('testId')['Timestamp'].shift(1)\n",
    "    \n",
    "    # user 별 마지막으로 푼 tag로부터 지난 시간, NaN값은 300으로 한다.\n",
    "    prev_timestamp_ac = df.groupby(['newUserID', 'KnowledgeTag'])[['Timestamp']].shift()\n",
    "    df['diff_time_btw_KnowledgeTag_ids'] = (df['Timestamp'] - prev_timestamp_ac['Timestamp']).fillna(300)\n",
    "    \n",
    "    # 각 tag 별 마지막으로 풀었을때 정답 여부\n",
    "    prev_correct_ac = df.groupby(['newUserID', 'KnowledgeTag'])[['answerCode']].shift()        \n",
    "    df['prev_answered_correctly'] = prev_correct_ac['answerCode'].fillna(0)\n",
    "    \n",
    "    #test, item, tag 별 평균 정답률\n",
    "    df[\"test_mean\"] = df.testId.map(testId_mean_sum['mean'])\n",
    "    df[\"ItemID_mean\"] = df.assessmentItemID.map(assessmentItemID_mean_sum['mean'])\n",
    "    df[\"tag_mean\"] = df.KnowledgeTag.map(KnowledgeTag_mean_sum['mean'])\n",
    "    \n",
    "    #test, Item, tag 별 상대적 정답률\n",
    "    df['relative_test_answer'] = df['answerCode'] - df['test_mean']\n",
    "    df['relative_ItemID_answer'] = df['answerCode'] - df['ItemID_mean']\n",
    "    df['relative_tag_answer'] = df['answerCode'] - df['tag_mean']\n",
    "    \n",
    "    #이동평균선 5, 10, 15, 20, 25, 30\n",
    "    df['ma5'] = df['user_acc'].fillna(0).rolling(window=5).mean()\n",
    "    df['ma10'] = df['user_acc'].fillna(0).rolling(window=10).mean()\n",
    "    df['ma15'] = df['user_acc'].fillna(0).rolling(window=15).mean()\n",
    "    df['ma20'] = df['user_acc'].fillna(0).rolling(window=20).mean()\n",
    "    df['ma25'] = df['user_acc'].fillna(0).rolling(window=25).mean()\n",
    "    df['ma30'] = df['user_acc'].fillna(0).rolling(window=30).mean()\n",
    "    \n",
    "    #MACD\n",
    "    df['MACD'] = df['ma15'] - df['ma25']\n",
    "    \n",
    "    #Standard Deviation 5,10, 15, 20, 25, 30\n",
    "    df['sd5'] = df['user_acc'].fillna(0).rolling(window=5).std()\n",
    "    df['sd10'] = df['user_acc'].fillna(0).rolling(window=10).std()\n",
    "    df['sd15'] = df['user_acc'].fillna(0).rolling(window=15).std()\n",
    "    df['sd20'] = df['user_acc'].fillna(0).rolling(window=20).std()\n",
    "    df['sd25'] = df['user_acc'].fillna(0).rolling(window=25).std()\n",
    "    df['sd30'] = df['user_acc'].fillna(0).rolling(window=30).std()\n",
    "    \n",
    "    #볼린저 밴드\n",
    "    df['Upper BollingerBand'] = df['ma10'] + (df['sd10'] * 3)\n",
    "    df['Lower BollingerBand'] = df['ma10'] - (df['sd10'] * 3)\n",
    "    \n",
    "    #이전에 같은 item, tag 몇 번 풀었는지\n",
    "    df['prior_ItemID_frequency'] = df.groupby(['newUserID', 'assessmentItemID']).cumcount()\n",
    "    df['prior_tag_frequency'] = df.groupby(['newUserID', 'KnowledgeTag']).cumcount()\n",
    "    \n",
    "    #망각 곡선TOD\n",
    "    return df"
   ]
  },
  {
   "cell_type": "code",
   "execution_count": 10,
   "id": "8eeccfc7-af1e-4445-80c8-3a3ab792d950",
   "metadata": {
    "tags": []
   },
   "outputs": [
    {
     "name": "stdout",
     "output_type": "stream",
     "text": [
      "cache dataset complete\n"
     ]
    }
   ],
   "source": [
    "if os.path.exists(\"fe_train2.csv\") and os.path.exists(\"fe_test2.csv\"):\n",
    "    FE_train = pd.read_csv(\"fe_train2.csv\")\n",
    "    FE_test = pd.read_csv(\"fe_test2.csv\")\n",
    "    FE_train.drop('Unnamed: 0', axis=1, inplace=True)\n",
    "    FE_test.drop('Unnamed: 0', axis=1, inplace=True)\n",
    "    print(\"cache dataset complete\")\n",
    "else:\n",
    "    print(\"working on feature engineering.\")\n",
    "    FE_train = feature_engineering(df_train)\n",
    "    FE_test = feature_engineering(df_test)\n",
    "    FE_train.to_csv('fe_train2.csv')\n",
    "    FE_test.to_csv('fe_test2.csv')\n",
    "    print(\"save dataset\")"
   ]
  },
  {
   "cell_type": "code",
   "execution_count": 11,
   "id": "5ac6e68d-e1da-495b-a469-4e5ea20eb449",
   "metadata": {},
   "outputs": [],
   "source": [
    "def add_feature(df_ori):\n",
    "    df = df_ori.copy()\n",
    "    df[\"test_sum\"] = df.testId.map(testId_mean_sum['sum'])\n",
    "    df[\"ItemID_sum\"] = df.assessmentItemID.map(assessmentItemID_mean_sum['sum'])\n",
    "    df[\"tag_sum\"] = df.KnowledgeTag.map(KnowledgeTag_mean_sum['sum'])\n",
    "    return df\n",
    "FE_train = add_feature(FE_train)\n",
    "FE_test = add_feature(FE_test)"
   ]
  },
  {
   "cell_type": "markdown",
   "id": "175c3bbf-a1fe-4346-b2fb-c9a255652515",
   "metadata": {},
   "source": [
    "## catergorical data preprocessing"
   ]
  },
  {
   "cell_type": "code",
   "execution_count": 12,
   "id": "a4de2e5e-1b3a-4488-a03c-ae5b5cde850e",
   "metadata": {},
   "outputs": [
    {
     "name": "stdout",
     "output_type": "stream",
     "text": [
      "9454\n",
      "9399\n",
      "9399\n",
      "**************************************************\n",
      "1537\n",
      "1526\n",
      "1526\n",
      "**************************************************\n",
      "912\n",
      "912\n",
      "912\n",
      "**************************************************\n",
      "18995\n",
      "744\n",
      "0\n",
      "**************************************************\n"
     ]
    }
   ],
   "source": [
    "a = set(FE_train.assessmentItemID)\n",
    "b = set(FE_test.assessmentItemID)\n",
    "print(len(a))\n",
    "print(len(b))\n",
    "print(len(a & b))\n",
    "print('*' * 50)\n",
    "\n",
    "a = set(FE_train.testId)\n",
    "b = set(FE_test.testId)\n",
    "print(len(a))\n",
    "print(len(b))\n",
    "print(len(a & b))\n",
    "print('*' * 50)\n",
    "\n",
    "a = set(FE_train.KnowledgeTag)\n",
    "b = set(FE_test.KnowledgeTag)\n",
    "print(len(a))\n",
    "print(len(b))\n",
    "print(len(a & b))\n",
    "print('*' * 50)\n",
    "\n",
    "a = set(FE_train.newUserID)\n",
    "b = set(FE_test.newUserID)\n",
    "print(len(a))\n",
    "print(len(b))\n",
    "print(len(a & b))\n",
    "print('*' * 50)"
   ]
  },
  {
   "cell_type": "code",
   "execution_count": 13,
   "id": "eb9c5cda-5831-4794-9abf-66fcdb1639ef",
   "metadata": {},
   "outputs": [
    {
     "name": "stdout",
     "output_type": "stream",
     "text": [
      "처리 시작\n",
      "newUserID처리\n",
      "assessmentItemID처리\n",
      "testId처리\n",
      "KnowledgeTag처리\n"
     ]
    }
   ],
   "source": [
    "from sklearn.preprocessing import LabelEncoder\n",
    "# test data와 train data를 함께 handling하기 때문에 이전과 이후의 차이가 있는지 확인\n",
    "def categori_preprocessing(PP_train, PP_test):\n",
    "    cate_cols = ['newUserID', 'assessmentItemID', 'testId', 'KnowledgeTag']  # 문항, 시험지, 문항 태그\n",
    "    PP_full = pd.concat([PP_train, PP_test])\n",
    "    \n",
    "    print(\"처리 시작\")\n",
    "    for col in cate_cols:\n",
    "        label_encoder = LabelEncoder()\n",
    "        #For UNKNOWN class\n",
    "        a = PP_full[col].unique().tolist() + ['unknown']\n",
    "        label_encoder.fit(a)\n",
    "\n",
    "        #모든 컬럼이 범주형이라고 가정\n",
    "        PP_full[col] = PP_full[col].astype(str)\n",
    "        test = label_encoder.transform(PP_full[col])\n",
    "        PP_full[col] = test\n",
    "        PP_full[col] = PP_full[col].astype('category')\n",
    "        print(col + \"처리\")\n",
    "        \n",
    "    return PP_full[:len(PP_train)], PP_full[len(PP_train):]\n",
    "\n",
    "PP_train, PP_test = categori_preprocessing(FE_train, FE_test)"
   ]
  },
  {
   "cell_type": "code",
   "execution_count": 14,
   "id": "f71a6328-11ae-4b73-a8ca-5896349dbbbc",
   "metadata": {},
   "outputs": [
    {
     "name": "stdout",
     "output_type": "stream",
     "text": [
      "9454\n",
      "9399\n",
      "9399\n",
      "**************************************************\n",
      "1537\n",
      "1526\n",
      "1526\n",
      "**************************************************\n",
      "912\n",
      "912\n",
      "912\n",
      "**************************************************\n",
      "18995\n",
      "744\n",
      "0\n",
      "**************************************************\n"
     ]
    }
   ],
   "source": [
    "a = set(PP_train.assessmentItemID)\n",
    "b = set(PP_test.assessmentItemID)\n",
    "print(len(a))\n",
    "print(len(b))\n",
    "print(len(a & b))\n",
    "print('*' * 50)\n",
    "\n",
    "a = set(PP_train.testId)\n",
    "b = set(PP_test.testId)\n",
    "print(len(a))\n",
    "print(len(b))\n",
    "print(len(a & b))\n",
    "print('*' * 50)\n",
    "\n",
    "a = set(PP_train.KnowledgeTag)\n",
    "b = set(PP_test.KnowledgeTag)\n",
    "print(len(a))\n",
    "print(len(b))\n",
    "print(len(a & b))\n",
    "print('*' * 50)\n",
    "\n",
    "a = set(PP_train.newUserID)\n",
    "b = set(PP_test.newUserID)\n",
    "print(len(a))\n",
    "print(len(b))\n",
    "print(len(a & b))\n",
    "print('*' * 50)"
   ]
  },
  {
   "cell_type": "code",
   "execution_count": 15,
   "id": "c0319791-4e26-42bb-9688-7823e6a622b3",
   "metadata": {},
   "outputs": [],
   "source": [
    "# 문제 없다면 다시 train test로 분배!\n",
    "df_train, df_test = PP_train, PP_test"
   ]
  },
  {
   "cell_type": "code",
   "execution_count": 2,
   "id": "5a829cde-e5db-442b-946f-459d425fbee9",
   "metadata": {},
   "outputs": [],
   "source": [
    "# PP_train.sort_values(by=['newUserID','Timestamp'], inplace=True)\n",
    "# PP_test.sort_values(by=['newUserID','Timestamp'], inplace=True)"
   ]
  },
  {
   "cell_type": "markdown",
   "id": "5caf7c9f-67c6-41c2-b2e1-5f7c10cfb4fa",
   "metadata": {},
   "source": [
    "# validation split"
   ]
  },
  {
   "cell_type": "code",
   "execution_count": 16,
   "id": "2a850a70-eda6-454e-bca0-9f2f0ed0185e",
   "metadata": {},
   "outputs": [],
   "source": [
    "# 맞춰야하는 문항 ID 파악\n",
    "set_assessmentItemID = set(df_test.loc[df_test.answerCode == -1, 'assessmentItemID'].values) # 문제별 ID\n",
    "set_testId = set(df_test.loc[df_test.answerCode == -1, 'testId'].values) # 시험지별 ID\n",
    "set_tag = set(df_test.loc[df_test.answerCode == -1, 'KnowledgeTag'].values) # 시험지별 ID"
   ]
  },
  {
   "cell_type": "code",
   "execution_count": 24,
   "id": "95b6c05a-50b1-4d9f-89bf-f235816533fa",
   "metadata": {
    "tags": []
   },
   "outputs": [],
   "source": [
    "def get_full_valid_split(df_ori, train_filter=None, val_filter=\"assessmentItemID\", ratio = 0.1):\n",
    "    random.seed(0)\n",
    "    df = df_ori.copy()\n",
    "    if val_filter == \"assessmentItemID\":\n",
    "        df_val = df[(df['newUserID'] != df['newUserID'].shift(-1)) & (df.assessmentItemID.isin(set_assessmentItemID))]\n",
    "    elif val_filter == \"testId\":\n",
    "        df_val = df[(df['newUserID'] != df['newUserID'].shift(-1)) & (df.testId.isin(set_testId))]\n",
    "    elif val_filter == \"KnowledgeTag\":\n",
    "         df_val = df[(df['newUserID'] != df['newUserID'].shift(-1)) & (df.KnowledgeTag.isin(set_tag))]\n",
    "\n",
    "    df_val = df_val.sample(frac=ratio, random_state = 0)\n",
    "    \n",
    "    if train_filter == \"test\":\n",
    "        df_train = df[df['testId'] != df['testId'].shift(-1)]\n",
    "    elif train_filter == \"user\":\n",
    "        df_train = df[df['newUserID'] != df['newUserID'].shift(-1)]\n",
    "    else:\n",
    "        df_train = df\n",
    "\n",
    "\n",
    "    df_train = df_train[df_train.index.isin(df_val.index) == False]\n",
    "    print(set(df_train.index) & set(df_val.index))\n",
    "\n",
    "    return df_train, df_val"
   ]
  },
  {
   "cell_type": "code",
   "execution_count": 25,
   "id": "ead342ed-265d-407c-b57a-b85bcaa9c339",
   "metadata": {},
   "outputs": [
    {
     "data": {
      "text/plain": [
       "Index(['userID', 'assessmentItemID', 'testId', 'answerCode', 'Timestamp',\n",
       "       'KnowledgeTag', 'newUserID', 'item', 'orded_item',\n",
       "       'user_correct_answer', 'user_total_answer', 'user_acc',\n",
       "       'prev_timestamp', 'diff_time_btw_KnowledgeTag_ids',\n",
       "       'prev_answered_correctly', 'test_mean', 'ItemID_mean', 'tag_mean',\n",
       "       'relative_test_answer', 'relative_ItemID_answer', 'relative_tag_answer',\n",
       "       'ma5', 'ma10', 'ma15', 'ma20', 'ma25', 'ma30', 'MACD', 'sd5', 'sd10',\n",
       "       'sd15', 'sd20', 'sd25', 'sd30', 'Upper BollingerBand',\n",
       "       'Lower BollingerBand', 'prior_ItemID_frequency', 'prior_tag_frequency',\n",
       "       'test_sum', 'ItemID_sum', 'tag_sum'],\n",
       "      dtype='object')"
      ]
     },
     "execution_count": 25,
     "metadata": {},
     "output_type": "execute_result"
    }
   ],
   "source": [
    "df_train.columns"
   ]
  },
  {
   "cell_type": "code",
   "execution_count": 31,
   "id": "b8f667e8-49f7-4dbf-a6d4-27c5613efb27",
   "metadata": {},
   "outputs": [],
   "source": [
    "train_filter = 'test' # test, user, none\n",
    "val_filter = \"assessmentItemID\" # assessmentItemID, testId, KnowledgeTag\n",
    "\n",
    "FEATS = ['item', 'orded_item',\n",
    "       'user_correct_answer', 'user_total_answer', 'user_acc',\n",
    "       'prev_timestamp', 'diff_time_btw_KnowledgeTag_ids', 'prev_answered_correctly',\n",
    "         'test_mean', 'ItemID_mean', 'tag_mean',\n",
    "'ma5', 'ma10', 'ma15', 'ma20', 'ma25', 'ma30', 'MACD', 'sd5', 'sd10', 'sd15', 'sd20', 'sd25', 'sd30', 'Upper BollingerBand',\n",
    "'Lower BollingerBand', 'prior_ItemID_frequency', 'prior_tag_frequency']\n",
    "\n",
    "'''\n",
    "'relative_test_answer', 'relative_ItemID_answer', 'relative_tag_answer',\n",
    "'''\n",
    "         \n",
    "#categorical_features = ['assessmentItemID'] # KnowledgeTag, newUserID, testId, assessmentItemID\n",
    "categorical_features = ['KnowledgeTag', 'testId', 'assessmentItemID', 'newUserID']\n",
    "# categorical_features = []\n",
    "numeric_features = []\n",
    "FEATS = FEATS + categorical_features + numeric_features"
   ]
  },
  {
   "cell_type": "code",
   "execution_count": 32,
   "id": "783853d1-2622-468b-8488-922de7697d3d",
   "metadata": {},
   "outputs": [
    {
     "name": "stdout",
     "output_type": "stream",
     "text": [
      "set()\n"
     ]
    }
   ],
   "source": [
    "df_train, df_test = PP_train, PP_test\n",
    "df_train, df_val = get_full_valid_split(df_train, train_filter, val_filter, ratio=0.1) "
   ]
  },
  {
   "cell_type": "markdown",
   "id": "2246fe17-e920-4c53-b455-0ef4a7db75fe",
   "metadata": {},
   "source": [
    "# dataset 구성 & Train"
   ]
  },
  {
   "cell_type": "code",
   "execution_count": 33,
   "id": "3173f633-0c6a-4253-9708-1843c5cba8bd",
   "metadata": {
    "tags": []
   },
   "outputs": [],
   "source": [
    "import lightgbm as lgb\n",
    "from sklearn.metrics import roc_auc_score\n",
    "from sklearn.metrics import accuracy_score\n",
    "\n",
    "train_answer = df_train['answerCode']\n",
    "train = df_train.drop(['answerCode'], axis=1)\n",
    "\n",
    "test_answer = df_val['answerCode']\n",
    "test = df_val.drop(['answerCode'], axis=1)\n",
    "\n",
    "lgb_train = lgb.Dataset(train[FEATS], train_answer, free_raw_data=False)\n",
    "lgb_test = lgb.Dataset(test[FEATS], test_answer, free_raw_data=False)"
   ]
  },
  {
   "cell_type": "code",
   "execution_count": 34,
   "id": "274a6393-adab-49b0-a827-90d63a44ef4e",
   "metadata": {},
   "outputs": [],
   "source": [
    "model_params = {\n",
    "    'objective': 'binary', # 이진 분류\n",
    "    'boosting_type': 'gbdt',\n",
    "    'metric': 'auc', # 평가 지표 설정\n",
    "    'feature_fraction': 0.8, # 피처 샘플링 비율\n",
    "    'bagging_fraction': 0.8, # 데이터 샘플링 비율\n",
    "    'bagging_freq': 1,\n",
    "    'n_estimators': 1000, # 트리 개수\n",
    "    'early_stopping_rounds': 100,\n",
    "    'seed': 42,\n",
    "    'verbose': -1,\n",
    "    'n_jobs': -1,    \n",
    "}"
   ]
  },
  {
   "cell_type": "code",
   "execution_count": 35,
   "id": "0fbf7302-7314-41bc-8e01-ff0e9fc82413",
   "metadata": {},
   "outputs": [
    {
     "name": "stdout",
     "output_type": "stream",
     "text": [
      "395088\n",
      "3540\n"
     ]
    }
   ],
   "source": [
    "print(len(train))\n",
    "print(len(test))"
   ]
  },
  {
   "cell_type": "code",
   "execution_count": 36,
   "id": "6637a0ac-e6b3-4cf2-8e3d-1ee703444be7",
   "metadata": {
    "tags": []
   },
   "outputs": [
    {
     "name": "stdout",
     "output_type": "stream",
     "text": [
      "Training until validation scores don't improve for 100 rounds\n",
      "[100]\ttraining's auc: 0.874048\tvalid_1's auc: 0.837379\n",
      "Early stopping, best iteration is:\n",
      "[77]\ttraining's auc: 0.870699\tvalid_1's auc: 0.838047\n",
      "VALID AUC : 0.8380469224787037 ACC : 0.7646892655367231\n",
      "\n"
     ]
    },
    {
     "data": {
      "text/plain": [
       "<AxesSubplot:title={'center':'Feature importance'}, xlabel='Feature importance', ylabel='Features'>"
      ]
     },
     "execution_count": 36,
     "metadata": {},
     "output_type": "execute_result"
    },
    {
     "data": {
      "image/png": "[encoded data removed]",
      "text/plain": [
       "<Figure size 432x288 with 1 Axes>"
      ]
     },
     "metadata": {
      "needs_background": "light"
     },
     "output_type": "display_data"
    }
   ],
   "source": [
    "model = lgb.train(\n",
    "                    model_params, \n",
    "                    lgb_train,\n",
    "                    valid_sets=[lgb_train, lgb_test],\n",
    "                    verbose_eval=100,\n",
    "                    early_stopping_rounds=100,\n",
    "                    categorical_feature=categorical_features\n",
    "                )\n",
    "\n",
    "preds = model.predict(test[FEATS])\n",
    "acc = accuracy_score(test_answer, np.where(preds >= 0.5, 1, 0))\n",
    "auc = roc_auc_score(test_answer, preds)\n",
    "\n",
    "print(f'VALID AUC : {auc} ACC : {acc}\\n')\n",
    "lgb.plot_importance(model)"
   ]
  },
  {
   "cell_type": "markdown",
   "id": "0d7c5fe6-78ea-40bf-a69f-270b91d78be6",
   "metadata": {},
   "source": [
    "# inference"
   ]
  },
  {
   "cell_type": "code",
   "execution_count": 37,
   "id": "2efbc0f1-88ea-4795-a926-4216f69e2916",
   "metadata": {},
   "outputs": [
    {
     "name": "stdout",
     "output_type": "stream",
     "text": [
      "writing prediction : ./0610_1056.csv\n"
     ]
    }
   ],
   "source": [
    "# MAKE PREDICTION\n",
    "df_test_shift = df_test[df_test['userID'] != df_test['userID'].shift(-1)] # 맞춰야하는 row만 모아놓은 것\n",
    "\n",
    "total_preds = model.predict(df_test_shift[FEATS])\n",
    "# SAVE OUTPUT\n",
    "output_dir = './'\n",
    "prediction_name = datetime.now(timezone(timedelta(hours=9))).strftime('%m%d_%H%M')\n",
    "\n",
    "write_path = os.path.join(output_dir, f\"{prediction_name}.csv\")\n",
    "if not os.path.exists(output_dir):\n",
    "    os.makedirs(output_dir)    \n",
    "with open(write_path, 'w', encoding='utf8') as w:\n",
    "    print(\"writing prediction : {}\".format(write_path))\n",
    "    w.write(\"id,prediction\\n\")\n",
    "    for id, p in enumerate(total_preds):\n",
    "        w.write('{},{}\\n'.format(id,p))"
   ]
  },
  {
   "cell_type": "markdown",
   "id": "e27ba2c2-e0aa-4009-8e16-fc1d0f640181",
   "metadata": {},
   "source": [
    "# k-fold 사용\n",
    "### user 단위로 fold\n",
    "### k-fold에는 validation이 조금 다릅니다.\n",
    "### train에서 fold로 나눠진 val set + eval_dataset의 유저 마지막 답안을 제외한 시험지의 마지막 데이터를 concat해서 사용합니다"
   ]
  },
  {
   "cell_type": "code",
   "execution_count": 56,
   "id": "4eb8418c-58fd-421c-8f24-9039494d4940",
   "metadata": {},
   "outputs": [],
   "source": [
    "df_train = PP_train\n",
    "df_test = PP_test"
   ]
  },
  {
   "cell_type": "code",
   "execution_count": 57,
   "id": "07518967-3d96-4b84-b9c3-1cf241abed4e",
   "metadata": {},
   "outputs": [],
   "source": [
    "def get_eval_valset(df_train, df_test):    \n",
    "    \n",
    "    df_val = df_test[(df_test.testId != df_test.testId.shift(-1)) & (df_test.answerCode != -1)]\n",
    "    df_train = df_train[df_train.testId != df_train.testId.shift(-1)]\n",
    "    \n",
    "    return df_train, df_val\n",
    "\n",
    "df_train, df_test_val = get_eval_valset(df_train, df_test)"
   ]
  },
  {
   "cell_type": "code",
   "execution_count": 58,
   "id": "4bc930a6-ba6f-42b5-8c6b-93eaf3aa9583",
   "metadata": {},
   "outputs": [],
   "source": [
    "model_params = {\n",
    "    'objective': 'binary', # 이진 분류\n",
    "    'boosting_type': 'gbdt',\n",
    "    'metric': 'auc', # 평가 지표 설정\n",
    "    'feature_fraction': 0.8, # 피처 샘플링 비율\n",
    "    'bagging_fraction': 0.8, # 데이터 샘플링 비율\n",
    "    'bagging_freq': 1,\n",
    "    'n_estimators': 1000, # 트리 개수\n",
    "    'early_stopping_rounds': 100,\n",
    "    'seed': 42,\n",
    "    'verbose': -1,\n",
    "    'n_jobs': -1,    \n",
    "}"
   ]
  },
  {
   "cell_type": "code",
   "execution_count": 59,
   "id": "e8b2605c-c2ab-4769-8b9a-833a1940e733",
   "metadata": {},
   "outputs": [],
   "source": [
    "from sklearn.model_selection import KFold\n",
    "import numpy as np\n",
    "import lightgbm as lgb\n",
    "from sklearn.metrics import roc_auc_score\n",
    "from sklearn.metrics import accuracy_score\n",
    "\n",
    "k_fold = KFold(n_splits=10, shuffle=True, random_state=42)\n",
    "\n",
    "predicts = None\n",
    "aucs = None\n",
    "\n",
    "id_set = list(set(df_train.newUserID))\n",
    "# validation\n",
    "val_aucs = 0\n",
    "\n",
    "## validation setting\n",
    "test_val = df_test_val.drop(['answerCode'], axis=1)\n",
    "test_val_answer = df_test_val['answerCode']\n",
    "\n",
    "# MAKE PREDICTION\n",
    "df_submit = df_test[df_test['userID'] != df_test['userID'].shift(-1)] # 맞춰야하는 row만 모아놓은 것\n",
    "submit_predicts = np.zeros(df_submit.shape[0])"
   ]
  },
  {
   "cell_type": "code",
   "execution_count": null,
   "id": "a2fe1f79-fb29-4266-b9bf-e5d3d3a8f577",
   "metadata": {
    "tags": []
   },
   "outputs": [
    {
     "name": "stdout",
     "output_type": "stream",
     "text": [
      "[0] training start !!\n",
      "Training until validation scores don't improve for 100 rounds\n",
      "[100]\ttraining's auc: 0.87611\tvalid_1's auc: 0.831373\n",
      "[200]\ttraining's auc: 0.88498\tvalid_1's auc: 0.830971\n",
      "Early stopping, best iteration is:\n",
      "[105]\ttraining's auc: 0.8768\tvalid_1's auc: 0.831509\n",
      "VALID AUC : 0.8315091714595457 ACC : 0.761555519931602\n",
      "\n",
      "[1] training start !!\n",
      "Training until validation scores don't improve for 100 rounds\n",
      "[100]\ttraining's auc: 0.876248\tvalid_1's auc: 0.832322\n",
      "[200]\ttraining's auc: 0.885225\tvalid_1's auc: 0.831937\n",
      "Early stopping, best iteration is:\n",
      "[141]\ttraining's auc: 0.880492\tvalid_1's auc: 0.832426\n",
      "VALID AUC : 0.8324264412781082 ACC : 0.7624448217317488\n",
      "\n",
      "[2] training start !!\n",
      "Training until validation scores don't improve for 100 rounds\n",
      "[100]\ttraining's auc: 0.876198\tvalid_1's auc: 0.82907\n"
     ]
    }
   ],
   "source": [
    "for fold, (train_id, val_id) in enumerate(k_fold.split(id_set)):\n",
    "\n",
    "    print(f\"[{fold}] training start !!\")\n",
    "    train_data = df_train[df_train.newUserID.isin(train_id)]    \n",
    "    val_data = df_train[df_train.newUserID.isin(train_id) == False]  \n",
    "\n",
    "    train = train_data.drop(['answerCode'], axis=1)\n",
    "    train_answer = train_data['answerCode']\n",
    "    \n",
    "\n",
    "    val = val_data.drop(['answerCode'], axis=1)\n",
    "    val_answer = val_data['answerCode']\n",
    "    all_val = pd.concat([val, test_val])\n",
    "    all_val_answer = pd.concat([val_answer, test_val_answer])\n",
    "\n",
    "    \n",
    "    lgb_train = lgb.Dataset(train[FEATS], train_answer, free_raw_data=False)\n",
    "    lgb_val = lgb.Dataset(all_val[FEATS], all_val_answer, free_raw_data=False)\n",
    "    \n",
    "    model = lgb.train(\n",
    "                    model_params, \n",
    "                    lgb_train,\n",
    "                    valid_sets=[lgb_train, lgb_val],\n",
    "                    verbose_eval=100,\n",
    "                    categorical_feature=categorical_features\n",
    "                )\n",
    "\n",
    "    val_preds = model.predict(all_val[FEATS])\n",
    "    submit_preds = model.predict(df_submit[FEATS])\n",
    "    \n",
    "    val_acc = accuracy_score(all_val_answer, np.where(val_preds >= 0.5, 1, 0))\n",
    "    val_auc = roc_auc_score(all_val_answer, val_preds)\n",
    "    print(f'VALID AUC : {val_auc} ACC : {val_acc}\\n')\n",
    "    \n",
    "    val_aucs += val_auc / 10\n",
    "    submit_predicts += np.array(submit_preds) / 10\n",
    "lgb.plot_importance(model)    \n",
    "print(f\"avg AUC : {val_aucs}\")"
   ]
  },
  {
   "cell_type": "code",
   "execution_count": null,
   "id": "b4e6d563-3823-4490-853c-b96b1f21ba71",
   "metadata": {},
   "outputs": [],
   "source": [
    "# SAVE OUTPUT\n",
    "output_dir = './'\n",
    "prediction_name = datetime.now(timezone(timedelta(hours=9))).strftime('%m%d_%H%M')\n",
    "\n",
    "write_path = os.path.join(output_dir, f\"{prediction_name}.csv\")\n",
    "if not os.path.exists(output_dir):\n",
    "    os.makedirs(output_dir)    \n",
    "with open(write_path, 'w', encoding='utf8') as w:\n",
    "    print(\"writing prediction : {}\".format(write_path))\n",
    "    w.write(\"id,prediction\\n\")\n",
    "    for id, p in enumerate(submit_predicts):\n",
    "        w.write('{},{}\\n'.format(id,p))"
   ]
  },
  {
   "cell_type": "code",
   "execution_count": null,
   "id": "6fa1bc5a-f0ad-4bfa-b7d3-c3bb7ac06328",
   "metadata": {},
   "outputs": [],
   "source": []
  }
 ],
 "metadata": {
  "kernelspec": {
   "display_name": "Python 3",
   "language": "python",
   "name": "python3"
  },
  "language_info": {
   "codemirror_mode": {
    "name": "ipython",
    "version": 3
   },
   "file_extension": ".py",
   "mimetype": "text/x-python",
   "name": "python",
   "nbconvert_exporter": "python",
   "pygments_lexer": "ipython3",
   "version": "3.7.7"
  }
 },
 "nbformat": 4,
 "nbformat_minor": 5
}
