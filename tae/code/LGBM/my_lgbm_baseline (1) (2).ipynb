{
 "cells": [
  {
   "cell_type": "code",
   "execution_count": 175,
   "id": "ad8a0698-1eb5-44f9-86c0-a6d6836c99c1",
   "metadata": {},
   "outputs": [],
   "source": [
    "import numpy as np\n",
    "import pandas as pd\n",
    "import os\n",
    "import random\n",
    "import pickle\n",
    "from pycaret.classification import *\n",
    "from pycaret.utils import check_metric\n",
    "from datetime import timedelta, timezone, datetime\n",
    "import torch"
   ]
  },
  {
   "cell_type": "code",
   "execution_count": 176,
   "id": "1100571d-aca5-4b67-b8c4-dec53849225a",
   "metadata": {},
   "outputs": [],
   "source": [
    "def setSeeds(seed = 42):\n",
    "    # 랜덤 시드를 설정하여 매 코드를 실행할 때마다 동일한 결과를 얻게 합니다.\n",
    "    os.environ['PYTHONHASHSEED'] = str(seed)\n",
    "    random.seed(seed)\n",
    "    np.random.seed(seed)\n",
    "    torch.manual_seed(seed)    \n",
    "    torch.cuda.manual_seed(seed)\n",
    "    torch.backends.cudnn.deterministic = True\n",
    "setSeeds(42)"
   ]
  },
  {
   "cell_type": "code",
   "execution_count": 177,
   "id": "45d1455a-89f8-47ec-8aea-04f22e34fc02",
   "metadata": {},
   "outputs": [],
   "source": [
    "def feature_split_user(df):\n",
    "    new_df = df.copy()\n",
    "    new_df[\"newUserID\"] = df['assessmentItemID'].apply(lambda x:x[:3]) + df['userID'].astype(str)\n",
    "    return new_df\n",
    "\n",
    "def get_remain_test_data(df_test):\n",
    "    get_new_id = set(df_test.loc[df_test.answerCode == -1, 'newUserID'])    \n",
    "    test_data = df_test[df_test.newUserID.isin(get_new_id)]\n",
    "    remain_data = df_test.drop(test_data.index)\n",
    "    return test_data, remain_data"
   ]
  },
  {
   "cell_type": "code",
   "execution_count": 178,
   "id": "6c763560-945d-4643-b9fd-593ba0396831",
   "metadata": {},
   "outputs": [],
   "source": [
    "train_path = '/opt/ml/input/data/train_dataset/train_data.csv'\n",
    "test_path = '/opt/ml/input/data/train_dataset/test_data.csv'\n",
    "\n",
    "df_train_ori = pd.read_csv(train_path) \n",
    "df_test_ori = pd.read_csv(test_path)\n",
    "\n",
    "df_train = feature_split_user(df_train_ori)\n",
    "df_test = feature_split_user(df_test_ori)\n",
    "\n",
    "df_test_shift = df_test[df_test['userID'] != df_test['userID'].shift(-1)] # 맞춰야하는 row만 모아놓은 것\n",
    "df_test, remain_data = get_remain_test_data(df_test)\n",
    "df_train = pd.concat([df_train, remain_data])\n",
    "\n",
    "df_train_test = pd.concat([df_train, df_test['answerCode'], df_test[df_test['answerCode'] != -1]])"
   ]
  },
  {
   "cell_type": "code",
   "execution_count": 179,
   "id": "9b45865c-f234-4eb6-b707-c53130c80938",
   "metadata": {},
   "outputs": [],
   "source": [
    "# trian에서 각 문제 평균 뽑기\n",
    "testId_mean_sum = df_train_test.groupby(['testId'])['answerCode'].agg(['mean','sum']).to_dict()\n",
    "assessmentItemID_mean_sum = df_train_test.groupby(['assessmentItemID'])['answerCode'].agg(['mean', 'sum']).to_dict()\n",
    "KnowledgeTag_mean_sum = df_train_test.groupby(['KnowledgeTag'])['answerCode'].agg(['mean', 'sum']).to_dict()"
   ]
  },
  {
   "cell_type": "code",
   "execution_count": 180,
   "id": "91d49fab-3bed-431d-812b-19692d91d801",
   "metadata": {},
   "outputs": [
    {
     "data": {
      "text/plain": [
       "set()"
      ]
     },
     "execution_count": 180,
     "metadata": {},
     "output_type": "execute_result"
    }
   ],
   "source": [
    "# new user id 겹치는거 없음 확인\n",
    "s1 = set(df_test.loc[:, 'newUserID'])\n",
    "s2 = set(df_train.loc[:, 'newUserID'])\n",
    "s1 & s2"
   ]
  },
  {
   "cell_type": "markdown",
   "id": "17a6a692-d78e-4978-b1de-088a7681d7a3",
   "metadata": {},
   "source": [
    "## Feature engineering\n",
    "### 한번만 실행되도록 설정"
   ]
  },
  {
   "cell_type": "code",
   "execution_count": 181,
   "id": "ce5cc7ad-d830-4dc7-834a-df03296ce261",
   "metadata": {},
   "outputs": [],
   "source": [
    "def feature_engineering(df_ori):\n",
    "    df = df_ori.copy()\n",
    "    def assessmentItemID2item(x):\n",
    "        return int(x[-3:]) - 1\n",
    "    df['item'] = df.assessmentItemID.map(assessmentItemID2item)\n",
    "    # testId별로 나오는 문제 갯수\n",
    "    item_size = df[['assessmentItemID', 'testId']].drop_duplicates().groupby('testId').size()\n",
    "    testId2maxlen = item_size.to_dict() # 중복해서 풀이할 놈들을 제거하기 위해\n",
    "    \n",
    "    item_max = df.groupby('testId')['item'].max()\n",
    "\n",
    "    # 순서대로 풀지 않은 문제의 index\n",
    "    not_order_index = item_max[item_max +1 != item_size].index    \n",
    "    not_order_test = df.loc[df.testId.isin(not_order_index)][['assessmentItemID','testId']].drop_duplicates().sort_values('assessmentItemID')\n",
    "    not_order_group = not_order_test.groupby('testId')\n",
    "\n",
    "    not_order_ID2item = {}\n",
    "    for key in not_order_group.groups:\n",
    "        for i, (k, _) in enumerate(not_order_group.get_group(key).values):\n",
    "            not_order_ID2item[k] = i\n",
    "    \n",
    "    def assessmentItemID2item_order(x):\n",
    "        if x in not_order_ID2item:\n",
    "            return int(not_order_ID2item[x])\n",
    "        return int(x[-3:]) -1\n",
    "    df['orded_item'] = df.assessmentItemID.map(assessmentItemID2item_order)\n",
    "    df_group = df.groupby(['newUserID','testId'])['answerCode']\n",
    "    df['user_correct_answer'] = df_group.transform(lambda x: x.cumsum().shift(1))\n",
    "    df['user_total_answer'] = df_group.cumcount()\n",
    "    df['user_acc'] = df['user_correct_answer'] / df['user_total_answer']\n",
    "    \n",
    "    df[\"test_mean\"] = df.testId.map(testId_mean_sum['mean'])\n",
    "    df[\"ItemID_mean\"] = df.assessmentItemID.map(assessmentItemID_mean_sum['mean'])\n",
    "    df[\"tag_mean\"] = df.KnowledgeTag.map(KnowledgeTag_mean_sum['mean'])\n",
    "    return df"
   ]
  },
  {
   "cell_type": "code",
   "execution_count": 182,
   "id": "8eeccfc7-af1e-4445-80c8-3a3ab792d950",
   "metadata": {
    "tags": []
   },
   "outputs": [
    {
     "name": "stdout",
     "output_type": "stream",
     "text": [
      "cache dataset complete\n"
     ]
    }
   ],
   "source": [
    "if os.path.exists(\"fe_train.csv\") and os.path.exists(\"fe_test.csv\"):\n",
    "    FE_train = pd.read_csv(\"fe_train.csv\")\n",
    "    FE_test = pd.read_csv(\"fe_test.csv\")\n",
    "    FE_train.drop('Unnamed: 0', axis=1, inplace=True)\n",
    "    FE_test.drop('Unnamed: 0', axis=1, inplace=True)\n",
    "    print(\"cache dataset complete\")\n",
    "else:\n",
    "    print(\"working on feature engineering.\")\n",
    "    FE_train = feature_engineering(df_train)\n",
    "    FE_test = feature_engineering(df_test)\n",
    "    FE_train.to_csv('fe_train.csv')\n",
    "    FE_test.to_csv('fe_test.csv')\n",
    "    print(\"save dataset\")"
   ]
  },
  {
   "cell_type": "markdown",
   "id": "175c3bbf-a1fe-4346-b2fb-c9a255652515",
   "metadata": {},
   "source": [
    "## catergorical data preprocessing"
   ]
  },
  {
   "cell_type": "code",
   "execution_count": 183,
   "id": "a4de2e5e-1b3a-4488-a03c-ae5b5cde850e",
   "metadata": {},
   "outputs": [
    {
     "name": "stdout",
     "output_type": "stream",
     "text": [
      "9454\n",
      "9399\n",
      "9399\n",
      "**************************************************\n",
      "1537\n",
      "1526\n",
      "1526\n",
      "**************************************************\n",
      "912\n",
      "912\n",
      "912\n",
      "**************************************************\n",
      "18995\n",
      "744\n",
      "0\n",
      "**************************************************\n"
     ]
    }
   ],
   "source": [
    "a = set(FE_train.assessmentItemID)\n",
    "b = set(FE_test.assessmentItemID)\n",
    "print(len(a))\n",
    "print(len(b))\n",
    "print(len(a & b))\n",
    "print('*' * 50)\n",
    "\n",
    "a = set(FE_train.testId)\n",
    "b = set(FE_test.testId)\n",
    "print(len(a))\n",
    "print(len(b))\n",
    "print(len(a & b))\n",
    "print('*' * 50)\n",
    "\n",
    "a = set(FE_train.KnowledgeTag)\n",
    "b = set(FE_test.KnowledgeTag)\n",
    "print(len(a))\n",
    "print(len(b))\n",
    "print(len(a & b))\n",
    "print('*' * 50)\n",
    "\n",
    "a = set(FE_train.newUserID)\n",
    "b = set(FE_test.newUserID)\n",
    "print(len(a))\n",
    "print(len(b))\n",
    "print(len(a & b))\n",
    "print('*' * 50)"
   ]
  },
  {
   "cell_type": "code",
   "execution_count": 199,
   "id": "eb9c5cda-5831-4794-9abf-66fcdb1639ef",
   "metadata": {},
   "outputs": [
    {
     "name": "stdout",
     "output_type": "stream",
     "text": [
      "처리 시작\n",
      "newUserID처리\n",
      "assessmentItemID처리\n",
      "testId처리\n",
      "KnowledgeTag처리\n"
     ]
    }
   ],
   "source": [
    "from sklearn.preprocessing import LabelEncoder\n",
    "# test data와 train data를 함께 handling하기 때문에 이전과 이후의 차이가 있는지 확인\n",
    "def categori_preprocessing(PP_train, PP_test):\n",
    "    cate_cols = ['newUserID', 'assessmentItemID', 'testId', 'KnowledgeTag']  # 문항, 시험지, 문항 태그\n",
    "    PP_full = pd.concat([PP_train, PP_test])\n",
    "    \n",
    "    print(\"처리 시작\")\n",
    "    for col in cate_cols:\n",
    "        label_encoder = LabelEncoder()\n",
    "        #For UNKNOWN class\n",
    "        a = PP_full[col].unique().tolist() + ['unknown']\n",
    "        label_encoder.fit(a)\n",
    "\n",
    "        #모든 컬럼이 범주형이라고 가정\n",
    "        PP_full[col] = PP_full[col].astype(str)\n",
    "        test = label_encoder.transform(PP_full[col])\n",
    "        PP_full[col] = test\n",
    "        PP_full[col] = PP_full[col].astype('category')\n",
    "        print(col + \"처리\")\n",
    "        \n",
    "    return PP_full[:len(PP_train)], PP_full[len(PP_train):]\n",
    "\n",
    "PP_train, PP_test = categori_preprocessing(FE_train, FE_test)"
   ]
  },
  {
   "cell_type": "code",
   "execution_count": 200,
   "id": "f71a6328-11ae-4b73-a8ca-5896349dbbbc",
   "metadata": {},
   "outputs": [
    {
     "name": "stdout",
     "output_type": "stream",
     "text": [
      "9454\n",
      "9399\n",
      "9399\n",
      "**************************************************\n",
      "1537\n",
      "1526\n",
      "1526\n",
      "**************************************************\n",
      "912\n",
      "912\n",
      "912\n",
      "**************************************************\n",
      "18995\n",
      "744\n",
      "0\n",
      "**************************************************\n"
     ]
    }
   ],
   "source": [
    "a = set(PP_train.assessmentItemID)\n",
    "b = set(PP_test.assessmentItemID)\n",
    "print(len(a))\n",
    "print(len(b))\n",
    "print(len(a & b))\n",
    "print('*' * 50)\n",
    "\n",
    "a = set(PP_train.testId)\n",
    "b = set(PP_test.testId)\n",
    "print(len(a))\n",
    "print(len(b))\n",
    "print(len(a & b))\n",
    "print('*' * 50)\n",
    "\n",
    "a = set(PP_train.KnowledgeTag)\n",
    "b = set(PP_test.KnowledgeTag)\n",
    "print(len(a))\n",
    "print(len(b))\n",
    "print(len(a & b))\n",
    "print('*' * 50)\n",
    "\n",
    "a = set(PP_train.newUserID)\n",
    "b = set(PP_test.newUserID)\n",
    "print(len(a))\n",
    "print(len(b))\n",
    "print(len(a & b))\n",
    "print('*' * 50)"
   ]
  },
  {
   "cell_type": "code",
   "execution_count": 201,
   "id": "c0319791-4e26-42bb-9688-7823e6a622b3",
   "metadata": {},
   "outputs": [],
   "source": [
    "# 문제 없다면 다시 train test로 분배!\n",
    "df_train, df_test = PP_train, PP_test"
   ]
  },
  {
   "cell_type": "markdown",
   "id": "5caf7c9f-67c6-41c2-b2e1-5f7c10cfb4fa",
   "metadata": {},
   "source": [
    "# validation split"
   ]
  },
  {
   "cell_type": "code",
   "execution_count": 202,
   "id": "2a850a70-eda6-454e-bca0-9f2f0ed0185e",
   "metadata": {},
   "outputs": [],
   "source": [
    "# 맞춰야하는 문항 ID 파악\n",
    "set_assessmentItemID = set(df_test.loc[df_test.answerCode == -1, 'assessmentItemID'].values) # 문제별 ID\n",
    "set_testId = set(df_test.loc[df_test.answerCode == -1, 'testId'].values) # 시험지별 ID\n",
    "set_tag = set(df_test.loc[df_test.answerCode == -1, 'KnowledgeTag'].values) # 시험지별 ID"
   ]
  },
  {
   "cell_type": "code",
   "execution_count": 203,
   "id": "95b6c05a-50b1-4d9f-89bf-f235816533fa",
   "metadata": {
    "tags": []
   },
   "outputs": [],
   "source": [
    "def get_full_valid_split(df_ori, filter_option=None):\n",
    "    random.seed(0)\n",
    "    df = df_ori.copy()\n",
    "    df_val = df[(df['newUserID'] != df['newUserID'].shift(-1)) & (df.assessmentItemID.isin(set_assessmentItemID))]\n",
    "    val_newUserId = set(df_val.newUserID.values)\n",
    "\n",
    "    if filter_option == \"test\":\n",
    "        df_train = df[df['testId'] != df['testId'].shift(-1)]\n",
    "    elif filter_option == \"user\":\n",
    "        df_train = df[df['newUserID'] != df['newUserID'].shift(-1)]\n",
    "    else:\n",
    "        df_train = df\n",
    "    return df_train, df_val"
   ]
  },
  {
   "cell_type": "code",
   "execution_count": 204,
   "id": "f0d97d81-3234-432e-b59e-9c459077965f",
   "metadata": {},
   "outputs": [
    {
     "data": {
      "text/plain": [
       "Index(['userID', 'assessmentItemID', 'testId', 'answerCode', 'Timestamp',\n",
       "       'KnowledgeTag', 'newUserID', 'item', 'orded_item',\n",
       "       'user_correct_answer', 'user_total_answer', 'user_acc', 'test_mean',\n",
       "       'ItemID_mean', 'tag_mean'],\n",
       "      dtype='object')"
      ]
     },
     "execution_count": 204,
     "metadata": {},
     "output_type": "execute_result"
    }
   ],
   "source": [
    "df_train.columns"
   ]
  },
  {
   "cell_type": "code",
   "execution_count": 208,
   "id": "b8f667e8-49f7-4dbf-a6d4-27c5613efb27",
   "metadata": {},
   "outputs": [
    {
     "name": "stdout",
     "output_type": "stream",
     "text": [
      "398628\n",
      "35402\n"
     ]
    }
   ],
   "source": [
    "filter_option = 'test' #user, none\n",
    "\n",
    "FEATS = ['ItemID_mean', 'user_acc', 'test_mean', 'tag_mean', 'assessmentItemID']\n",
    "categorical_features = ['assessmentItemID'] # KnowledgeTag, newUserID, testId, assessmentItemID\n",
    "numeric_features = []\n",
    "FEATS = FEATS + categorical_features + numeric_features\n",
    "df_train, df_val = get_full_valid_split(df_train, filter_option) # test filter 기준 398628 , 35404 rows면 잘 분배된거에요\n",
    "print(len(df_train))\n",
    "print(len(df_val))"
   ]
  },
  {
   "cell_type": "markdown",
   "id": "2246fe17-e920-4c53-b455-0ef4a7db75fe",
   "metadata": {},
   "source": [
    "# dataset 구성 & Train"
   ]
  },
  {
   "cell_type": "code",
   "execution_count": 209,
   "id": "3173f633-0c6a-4253-9708-1843c5cba8bd",
   "metadata": {},
   "outputs": [],
   "source": [
    "import lightgbm as lgb\n",
    "from sklearn.metrics import roc_auc_score\n",
    "from sklearn.metrics import accuracy_score\n",
    "\n",
    "train_answer = df_train['answerCode']\n",
    "train = df_train.drop(['answerCode'], axis=1)\n",
    "\n",
    "test_answer = df_val['answerCode']\n",
    "test = df_val.drop(['answerCode'], axis=1)\n",
    "\n",
    "lgb_train = lgb.Dataset(train[FEATS], train_answer, free_raw_data=False)\n",
    "lgb_test = lgb.Dataset(test[FEATS], test_answer, free_raw_data=False)"
   ]
  },
  {
   "cell_type": "code",
   "execution_count": 210,
   "id": "6637a0ac-e6b3-4cf2-8e3d-1ee703444be7",
   "metadata": {},
   "outputs": [
    {
     "name": "stdout",
     "output_type": "stream",
     "text": [
      "[LightGBM] [Info] Number of positive: 223634, number of negative: 174994\n",
      "[LightGBM] [Warning] Auto-choosing row-wise multi-threading, the overhead of testing was 0.003061 seconds.\n",
      "You can set `force_row_wise=true` to remove the overhead.\n",
      "And if memory is not enough, you can set `force_col_wise=true`.\n",
      "[LightGBM] [Info] Total Bins 3655\n",
      "[LightGBM] [Info] Number of data points in the train set: 398628, number of used features: 5\n",
      "[LightGBM] [Info] [binary:BoostFromScore]: pavg=0.561009 -> initscore=0.245259\n",
      "[LightGBM] [Info] Start training from score 0.245259\n",
      "Training until validation scores don't improve for 100 rounds\n",
      "[100]\ttraining's binary_logloss: 0.500378\tvalid_1's binary_logloss: 0.512938\n",
      "[200]\ttraining's binary_logloss: 0.499047\tvalid_1's binary_logloss: 0.51222\n",
      "[300]\ttraining's binary_logloss: 0.498294\tvalid_1's binary_logloss: 0.511792\n",
      "[400]\ttraining's binary_logloss: 0.497656\tvalid_1's binary_logloss: 0.511429\n",
      "[500]\ttraining's binary_logloss: 0.49709\tvalid_1's binary_logloss: 0.511169\n",
      "[600]\ttraining's binary_logloss: 0.496496\tvalid_1's binary_logloss: 0.510942\n",
      "[700]\ttraining's binary_logloss: 0.495875\tvalid_1's binary_logloss: 0.510707\n",
      "[800]\ttraining's binary_logloss: 0.495347\tvalid_1's binary_logloss: 0.510428\n",
      "[900]\ttraining's binary_logloss: 0.494912\tvalid_1's binary_logloss: 0.51025\n",
      "[1000]\ttraining's binary_logloss: 0.49452\tvalid_1's binary_logloss: 0.509969\n",
      "Did not meet early stopping. Best iteration is:\n",
      "[1000]\ttraining's binary_logloss: 0.49452\tvalid_1's binary_logloss: 0.509969\n",
      "VALID AUC : 0.821059290592205 ACC : 0.7465962375007061\n",
      "\n"
     ]
    },
    {
     "data": {
      "text/plain": [
       "<AxesSubplot:title={'center':'Feature importance'}, xlabel='Feature importance', ylabel='Features'>"
      ]
     },
     "execution_count": 210,
     "metadata": {},
     "output_type": "execute_result"
    },
    {
     "data": {
      "image/png": "[encoded data removed]",
      "text/plain": [
       "<Figure size 432x288 with 1 Axes>"
      ]
     },
     "metadata": {
      "needs_background": "light"
     },
     "output_type": "display_data"
    }
   ],
   "source": [
    "model = lgb.train(\n",
    "                    {'objective': 'binary'}, \n",
    "                    lgb_train,\n",
    "                    valid_sets=[lgb_train, lgb_test],\n",
    "                    verbose_eval=100,\n",
    "                    num_boost_round=1000,\n",
    "                    early_stopping_rounds=100,\n",
    "                    categorical_feature=categorical_features\n",
    "                )\n",
    "\n",
    "preds = model.predict(test[FEATS])\n",
    "acc = accuracy_score(test_answer, np.where(preds >= 0.5, 1, 0))\n",
    "auc = roc_auc_score(test_answer, preds)\n",
    "\n",
    "print(f'VALID AUC : {auc} ACC : {acc}\\n')\n",
    "lgb.plot_importance(model)"
   ]
  },
  {
   "cell_type": "markdown",
   "id": "0d7c5fe6-78ea-40bf-a69f-270b91d78be6",
   "metadata": {},
   "source": [
    "# inference"
   ]
  },
  {
   "cell_type": "code",
   "execution_count": 211,
   "id": "2efbc0f1-88ea-4795-a926-4216f69e2916",
   "metadata": {},
   "outputs": [
    {
     "name": "stdout",
     "output_type": "stream",
     "text": [
      "writing prediction : ./0607_2349.csv\n"
     ]
    }
   ],
   "source": [
    "# MAKE PREDICTION\n",
    "df_test_shift = df_test[df_test['userID'] != df_test['userID'].shift(-1)] # 맞춰야하는 row만 모아놓은 것\n",
    "\n",
    "total_preds = model.predict(df_test_shift[FEATS])\n",
    "# SAVE OUTPUT\n",
    "output_dir = './'\n",
    "prediction_name = datetime.now(timezone(timedelta(hours=9))).strftime('%m%d_%H%M')\n",
    "\n",
    "write_path = os.path.join(output_dir, f\"{prediction_name}.csv\")\n",
    "if not os.path.exists(output_dir):\n",
    "    os.makedirs(output_dir)    \n",
    "with open(write_path, 'w', encoding='utf8') as w:\n",
    "    print(\"writing prediction : {}\".format(write_path))\n",
    "    w.write(\"id,prediction\\n\")\n",
    "    for id, p in enumerate(total_preds):\n",
    "        w.write('{},{}\\n'.format(id,p))"
   ]
  },
  {
   "cell_type": "code",
   "execution_count": null,
   "id": "b3d09222-d7b8-452e-b334-d76f1479da7c",
   "metadata": {},
   "outputs": [],
   "source": []
  }
 ],
 "metadata": {
  "kernelspec": {
   "display_name": "Python 3",
   "language": "python",
   "name": "python3"
  },
  "language_info": {
   "codemirror_mode": {
    "name": "ipython",
    "version": 3
   },
   "file_extension": ".py",
   "mimetype": "text/x-python",
   "name": "python",
   "nbconvert_exporter": "python",
   "pygments_lexer": "ipython3",
   "version": "3.7.7"
  }
 },
 "nbformat": 4,
 "nbformat_minor": 5
}
